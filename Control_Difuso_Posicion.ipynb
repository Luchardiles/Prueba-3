{
  "cells": [
    {
      "cell_type": "markdown",
      "id": "53e20aa2-af07-4e62-86a5-544e976a26c8",
      "metadata": {
        "id": "53e20aa2-af07-4e62-86a5-544e976a26c8"
      },
      "source": [
        "# **Control Inteligente**\n",
        "# **Control de Posición Difuso**"
      ]
    },
    {
      "cell_type": "markdown",
      "id": "1bb32b3e-3b40-448f-a8ff-1253ac1e60fe",
      "metadata": {
        "id": "1bb32b3e-3b40-448f-a8ff-1253ac1e60fe"
      },
      "source": [
        "## **Robot Móvil Diferencial**"
      ]
    },
    {
      "cell_type": "markdown",
      "id": "5d31a627-7168-4117-aeb9-199b69d62f5b",
      "metadata": {
        "id": "5d31a627-7168-4117-aeb9-199b69d62f5b"
      },
      "source": [
        "<img src=\"https://www.mdpi.com/mathematics/mathematics-10-03990/article_deploy/html/images/mathematics-10-03990-g001.png\" alt=\"robot_diferencial\" width=\"500\"/>"
      ]
    },
    {
      "cell_type": "markdown",
      "id": "7517cce5-c040-4bb8-a37e-7100b5f87db0",
      "metadata": {
        "id": "7517cce5-c040-4bb8-a37e-7100b5f87db0"
      },
      "source": [
        "### Modelo Cinemático\n",
        "$$\\large\\begin{align*}\n",
        "\\dot{x} &= v\\cos(\\theta) \\\\\n",
        "\\dot{y} &= v\\sin(\\theta) \\\\\n",
        "\\dot{\\theta} &= \\omega\n",
        "\\end{align*}$$\n",
        "$$\\large v=\\frac{r}{2}(\\omega_r+\\omega_l) \\hspace{10mm} \\large\\omega=\\frac{r}{2}(\\omega_r-\\omega_l)$$\n",
        "$$\\large\\omega_r=\\frac{v+\\frac{L}{2}\\omega}{r} \\hspace{10mm} \\large\\omega_l=\\frac{v-\\frac{L}{2}\\omega}{r}$$"
      ]
    },
    {
      "cell_type": "markdown",
      "id": "e074d052-f1fb-411f-a16b-65f39b89e409",
      "metadata": {
        "id": "e074d052-f1fb-411f-a16b-65f39b89e409"
      },
      "source": [
        "## Librerías"
      ]
    },
    {
      "cell_type": "code",
      "execution_count": null,
      "id": "9931b66d",
      "metadata": {
        "id": "9931b66d"
      },
      "outputs": [],
      "source": [
        "#pip install scikit-fuzzy networkx"
      ]
    },
    {
      "cell_type": "code",
      "execution_count": null,
      "id": "89239502-471d-49ee-9aaa-b3dafce1d6be",
      "metadata": {
        "id": "89239502-471d-49ee-9aaa-b3dafce1d6be"
      },
      "outputs": [],
      "source": [
        "import sim\n",
        "import numpy as np\n",
        "import math\n",
        "import time\n",
        "import pandas as pd\n",
        "import matplotlib.pyplot as plt\n",
        "import plotly.express as px\n",
        "import skfuzzy as fuzz\n",
        "from skfuzzy import control as ctrl\n",
        "t_ini = time.time()\n",
        "pi = math.pi"
      ]
    },
    {
      "cell_type": "markdown",
      "id": "7d4fa2ee-bf28-4481-aead-7e8ea91e6221",
      "metadata": {
        "id": "7d4fa2ee-bf28-4481-aead-7e8ea91e6221"
      },
      "source": [
        "## Comunicación con CoppeliaSim"
      ]
    },
    {
      "cell_type": "code",
      "execution_count": null,
      "id": "ef98906b-3d87-41d4-84de-8a1683b6e879",
      "metadata": {
        "id": "ef98906b-3d87-41d4-84de-8a1683b6e879"
      },
      "outputs": [],
      "source": [
        "def connect(port):\n",
        "    sim.simxFinish(-1)\n",
        "    clientID=sim.simxStart('127.0.0.1',port,True,True,2000,5)\n",
        "    if clientID == 0: print(\"conectado a\", port)\n",
        "    else: print(\"no se pudo conectar\")\n",
        "    return clientID"
      ]
    },
    {
      "cell_type": "code",
      "execution_count": null,
      "id": "d43f3adb",
      "metadata": {
        "id": "d43f3adb",
        "outputId": "c51f0eb4-48c8-4227-e1d5-eaa40f782e58"
      },
      "outputs": [
        {
          "name": "stdout",
          "output_type": "stream",
          "text": [
            "conectado a 19999\n"
          ]
        }
      ],
      "source": [
        "clientID = connect(19999)\n",
        "_, system = sim.simxGetObjectHandle(clientID,'./PioneerP3DX',sim.simx_opmode_blocking)\n",
        "_, right_wheel = sim.simxGetObjectHandle(clientID,'./rightMotor',sim.simx_opmode_blocking)\n",
        "_, left_wheel = sim.simxGetObjectHandle(clientID,'./leftMotor',sim.simx_opmode_blocking)"
      ]
    },
    {
      "cell_type": "markdown",
      "id": "1872b433-d42c-4db6-9cc9-57d03aeb3923",
      "metadata": {
        "id": "1872b433-d42c-4db6-9cc9-57d03aeb3923"
      },
      "source": [
        "## Control manual (Lazo abierto)"
      ]
    },
    {
      "cell_type": "code",
      "execution_count": null,
      "id": "9378ad50-2b08-47be-95ea-62b46ea7f621",
      "metadata": {
        "id": "9378ad50-2b08-47be-95ea-62b46ea7f621"
      },
      "outputs": [],
      "source": [
        "def manual_control(linear_speed, angular_speed):\n",
        "    wheel_radius = 0.0975\n",
        "    distance_wheels = 0.331\n",
        "    angular_speed_right = (linear_speed + (distance_wheels/2)*angular_speed)/wheel_radius\n",
        "    angular_speed_left = (linear_speed - (distance_wheels/2)*angular_speed)/wheel_radius\n",
        "    sim.simxSetJointTargetVelocity(clientID, right_wheel, angular_speed_right, sim.simx_opmode_oneshot)\n",
        "    sim.simxSetJointTargetVelocity(clientID, left_wheel, angular_speed_left, sim.simx_opmode_oneshot)"
      ]
    },
    {
      "cell_type": "code",
      "execution_count": null,
      "id": "734c1d15-d724-46c7-821f-44575b29bd78",
      "metadata": {
        "id": "734c1d15-d724-46c7-821f-44575b29bd78",
        "outputId": "fc5f4c04-b096-474b-a2e4-63584d5696de"
      },
      "outputs": [
        {
          "name": "stdout",
          "output_type": "stream",
          "text": [
            "Linear speed: 0.0106 Angular speed: 0.0043\n",
            "Linear speed: 0.0107 Angular speed: 0.0043\n",
            "Linear speed: 0.0107 Angular speed: 0.0044\n",
            "Linear speed: 0.0106 Angular speed: 0.0042\n",
            "Linear speed: 0.0107 Angular speed: 0.0041\n",
            "Linear speed: 0.0107 Angular speed: 0.0042\n",
            "Linear speed: 0.0107 Angular speed: 0.0040\n",
            "Linear speed: 0.0104 Angular speed: 0.0031\n",
            "Linear speed: 0.0108 Angular speed: 0.0049\n",
            "Linear speed: 0.0109 Angular speed: 0.0064\n"
          ]
        }
      ],
      "source": [
        "manual_control(0.01, 0.0)\n",
        "for i in range(10):\n",
        "    _, [speed_x, speed_y, speed_z], [angular_speed_x, angular_speed_y, angular_speed_z] = sim.simxGetObjectVelocity(clientID, system, sim.simx_opmode_blocking)\n",
        "    speed = np.sqrt(speed_x**2 + speed_y**2 + speed_z**2)\n",
        "    angular_speed = np.sqrt(angular_speed_x**2 + angular_speed_y**2 + angular_speed_z**2)\n",
        "    print(f\"Linear speed: {speed:.4f} Angular speed: {angular_speed:.4f}\")\n",
        "    #print(f\"Angular speed: {angular_speed}\")"
      ]
    },
    {
      "cell_type": "markdown",
      "id": "5de8eba8",
      "metadata": {
        "id": "5de8eba8"
      },
      "source": [
        "## **Controlador Difuso**"
      ]
    },
    {
      "cell_type": "markdown",
      "id": "9d451b0f",
      "metadata": {
        "id": "9d451b0f"
      },
      "source": [
        "### Rangos de las variables"
      ]
    },
    {
      "cell_type": "code",
      "execution_count": null,
      "id": "8ca8e0eb-b2b9-4ad5-b050-43c2c0f4d1e3",
      "metadata": {
        "id": "8ca8e0eb-b2b9-4ad5-b050-43c2c0f4d1e3"
      },
      "outputs": [],
      "source": [
        "max_distance = np.sqrt(20**2 + 20**2)\n",
        "angle_error = ctrl.Antecedent(np.linspace(-pi, pi, 181), 'angle_error')\n",
        "position_error = ctrl.Antecedent(np.linspace(0, max_distance, 101), 'position_error')\n",
        "linear_speed = ctrl.Consequent(np.linspace(0, 1, 101), 'v')\n",
        "angular_speed = ctrl.Consequent(np.linspace(-1, 1, 101), 'w')"
      ]
    },
    {
      "cell_type": "markdown",
      "id": "16ed4166",
      "metadata": {
        "id": "16ed4166"
      },
      "source": [
        "### Funciones de pertenencia"
      ]
    },
    {
      "cell_type": "code",
      "execution_count": null,
      "id": "442dabb6",
      "metadata": {
        "id": "442dabb6"
      },
      "outputs": [],
      "source": [
        "angle_error['left'] = fuzz.trapmf(angle_error.universe, [-pi, -pi, -pi/2, 0])\n",
        "angle_error['center'] = fuzz.trimf(angle_error.universe, [-pi/4, 0, pi/4])\n",
        "angle_error['right'] = fuzz.trapmf(angle_error.universe, [0, pi/2, pi, pi])\n",
        "position_error['near'] = fuzz.trimf(position_error.universe, [0, 0, max_distance/2])\n",
        "position_error['far'] = fuzz.trimf(position_error.universe, [max_distance/4, max_distance, max_distance])\n",
        "linear_speed['slow'] = fuzz.trimf(linear_speed.universe, [0, 0, 0.5])\n",
        "linear_speed['fast'] = fuzz.trimf(linear_speed.universe, [0.3, 1, 1])\n",
        "angular_speed['left'] = fuzz.trimf(angular_speed.universe, [-1, -1, 0])\n",
        "angular_speed['none'] = fuzz.trimf(angular_speed.universe, [-0.1, 0, 0.1])\n",
        "angular_speed['right'] = fuzz.trimf(angular_speed.universe, [0, 1, 1])"
      ]
    },
    {
      "cell_type": "code",
      "execution_count": null,
      "id": "6cf49da0",
      "metadata": {
        "id": "6cf49da0",
        "outputId": "2f3622df-bdd2-4a0f-e876-38b40e105ac4"
      },
      "outputs": [
        {
          "data": {
            "image/png": "[encoded data removed]",
            "text/plain": [
              "<Figure size 640x480 with 1 Axes>"
            ]
          },
          "metadata": {},
          "output_type": "display_data"
        },
        {
          "data": {
            "image/png": "[encoded data removed]",
            "text/plain": [
              "<Figure size 640x480 with 1 Axes>"
            ]
          },
          "metadata": {},
          "output_type": "display_data"
        },
        {
          "data": {
            "image/png": "[encoded data removed]",
            "text/plain": [
              "<Figure size 640x480 with 1 Axes>"
            ]
          },
          "metadata": {},
          "output_type": "display_data"
        },
        {
          "data": {
            "image/png": "[encoded data removed]",
            "text/plain": [
              "<Figure size 640x480 with 1 Axes>"
            ]
          },
          "metadata": {},
          "output_type": "display_data"
        }
      ],
      "source": [
        "angle_error.view()\n",
        "plt.grid()\n",
        "position_error.view()\n",
        "plt.grid()\n",
        "linear_speed.view()\n",
        "plt.grid()\n",
        "angular_speed.view()\n",
        "plt.grid()"
      ]
    },
    {
      "cell_type": "markdown",
      "id": "e10bea06",
      "metadata": {
        "id": "e10bea06"
      },
      "source": [
        "### Reglas difusas"
      ]
    },
    {
      "cell_type": "code",
      "execution_count": null,
      "id": "87258813",
      "metadata": {
        "id": "87258813"
      },
      "outputs": [],
      "source": [
        "rules = [\n",
        "    ctrl.Rule(angle_error['center'] & position_error['far'], (linear_speed['fast'], angular_speed['none'])),\n",
        "    ctrl.Rule(angle_error['left'], (linear_speed['slow'], angular_speed['left'])),\n",
        "    ctrl.Rule(angle_error['right'], (linear_speed['slow'], angular_speed['right'])),\n",
        "    ctrl.Rule(position_error['near'], (linear_speed['slow'], angular_speed['none'])),\n",
        "]"
      ]
    },
    {
      "cell_type": "markdown",
      "id": "cd9e0067",
      "metadata": {
        "id": "cd9e0067"
      },
      "source": [
        "### Fuzzificación, Agregación y Deffuzificación"
      ]
    },
    {
      "cell_type": "code",
      "execution_count": null,
      "id": "7846d09e",
      "metadata": {
        "id": "7846d09e"
      },
      "outputs": [],
      "source": [
        "fuzzy_ctrl = ctrl.ControlSystem(rules) # Fuzzificación\n",
        "fuzzy_sim = ctrl.ControlSystemSimulation(fuzzy_ctrl) # Agregación y Deffuzificación\n",
        "def fuzzy_controller(angle_err, pos_err):\n",
        "    fuzzy_sim.input['angle_error'] = angle_err\n",
        "    fuzzy_sim.input['position_error'] = pos_err\n",
        "    fuzzy_sim.compute()\n",
        "    linear_speed_control = fuzzy_sim.output['v']\n",
        "    angular_speed_control = fuzzy_sim.output['w']\n",
        "    return linear_speed_control, angular_speed_control"
      ]
    },
    {
      "cell_type": "code",
      "execution_count": null,
      "id": "c9956348",
      "metadata": {
        "id": "c9956348",
        "outputId": "c2d97d30-87fd-4aa4-f992-1539d0c90b3e"
      },
      "outputs": [
        {
          "name": "stdout",
          "output_type": "stream",
          "text": [
            "conectado a 19999\n"
          ]
        }
      ],
      "source": [
        "clientID = connect(19999)\n",
        "_, system = sim.simxGetObjectHandle(clientID,'./PioneerP3DX',sim.simx_opmode_blocking)\n",
        "_, right_wheel = sim.simxGetObjectHandle(clientID,'./rightMotor',sim.simx_opmode_blocking)\n",
        "_, left_wheel = sim.simxGetObjectHandle(clientID,'./leftMotor',sim.simx_opmode_blocking)\n",
        "Tf = 10\n",
        "Ts = 0.01 # Tiempo de muestreo\n",
        "t = np.arange(0, Tf+Ts, Ts)\n",
        "N = len(t)\n",
        "x = np.zeros(N) # Posición en X del robot\n",
        "y = np.zeros(N) # Posición en Y del robot\n",
        "theta = np.zeros(N) # Ángulo de orientación del robot\n",
        "e_pos = np.zeros(N) # Vector de error de posición\n",
        "e_gui = np.zeros(N) # Vector de error de orientación\n",
        "u_pos_control = np.zeros(N) # Señal de control de posición (v)\n",
        "u_gui_control = np.zeros(N) # Señal de control de orientación (w)"
      ]
    },
    {
      "cell_type": "code",
      "execution_count": null,
      "id": "d790c63e",
      "metadata": {
        "id": "d790c63e"
      },
      "outputs": [],
      "source": [
        "wheel_radius = 0.0975\n",
        "distance_wheels = 0.331\n",
        "x_ref = 5\n",
        "y_ref = -1\n",
        "theta_ref = 0\n",
        "for k in range(N):\n",
        "    _, [x_current, y_current, _] = sim.simxGetObjectPosition(clientID, system, -1, sim.simx_opmode_blocking)\n",
        "    _, [_, _, theta_current] = sim.simxGetObjectOrientation(clientID, system, -1, sim.simx_opmode_blocking)\n",
        "    x[k] = x_current # Posición en x actual\n",
        "    y[k] = y_current # Posición en y actual\n",
        "    theta[k] = theta_current # Ángulo de orientación actual\n",
        "    e_pos[k] = np.sqrt((x_ref - x[k])**2 + (y_ref - y[k])**2) # Error de posición\n",
        "    e_gui[k] = np.arctan2(y_ref - y[k], x_ref - x[k]) - theta[k] # Error de orientación\n",
        "    e_gui[k] = np.arctan2(np.sin(e_gui[k]), np.cos(e_gui[k])) # Eror de orientación normalizado [-pi, pi]\n",
        "    u_pos_control[k], u_gui_control[k] = fuzzy_controller(e_gui[k], e_pos[k])\n",
        "    angular_speed_right = (u_pos_control[k] + (distance_wheels/2)*u_gui_control[k])/wheel_radius\n",
        "    angular_speed_left = (u_pos_control[k] - (distance_wheels/2)*u_gui_control[k])/wheel_radius\n",
        "    sim.simxSetJointTargetVelocity(clientID, right_wheel, angular_speed_right, sim.simx_opmode_oneshot)\n",
        "    sim.simxSetJointTargetVelocity(clientID, left_wheel, angular_speed_left, sim.simx_opmode_oneshot)\n",
        "    #time.sleep(Ts)"
      ]
    },
    {
      "cell_type": "code",
      "execution_count": null,
      "id": "0979e0aa",
      "metadata": {
        "id": "0979e0aa",
        "outputId": "a99cfd44-9ef0-468a-a55c-edf2e0029018"
      },
      "outputs": [
        {
          "data": {
            "application/vnd.plotly.v1+json": {
              "config": {
                "plotlyServerURL": "https://plot.ly"
              },
              "data": [
                {
                  "hovertemplate": "Time [s]=%{x}<br>Y position [m]=%{y}<extra></extra>",
                  "legendgroup": "",
                  "line": {
                    "color": "blue",
                    "dash": "solid",
                    "width": 4
                  },
                  "marker": {
                    "symbol": "circle"
                  },
                  "mode": "lines",
                  "name": "",
                  "showlegend": false,
                  "type": "scattergl",
                  "x": {
                    "bdata": "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",
                    "dtype": "f8"
                  },
                  "xaxis": "x",
                  "y": {
                    "bdata": "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",
                    "dtype": "f8"
                  },
                  "yaxis": "y"
                }
              ],
              "layout": {
                "legend": {
                  "tracegroupgap": 0
                },
                "margin": {
                  "t": 60
                },
                "template": {
                  "data": {
                    "bar": [
                      {
                        "error_x": {
                          "color": "#2a3f5f"
                        },
                        "error_y": {
                          "color": "#2a3f5f"
                        },
                        "marker": {
                          "line": {
                            "color": "#E5ECF6",
                            "width": 0.5
                          },
                          "pattern": {
                            "fillmode": "overlay",
                            "size": 10,
                            "solidity": 0.2
                          }
                        },
                        "type": "bar"
                      }
                    ],
                    "barpolar": [
                      {
                        "marker": {
                          "line": {
                            "color": "#E5ECF6",
                            "width": 0.5
                          },
                          "pattern": {
                            "fillmode": "overlay",
                            "size": 10,
                            "solidity": 0.2
                          }
                        },
                        "type": "barpolar"
                      }
                    ],
                    "carpet": [
                      {
                        "aaxis": {
                          "endlinecolor": "#2a3f5f",
                          "gridcolor": "white",
                          "linecolor": "white",
                          "minorgridcolor": "white",
                          "startlinecolor": "#2a3f5f"
                        },
                        "baxis": {
                          "endlinecolor": "#2a3f5f",
                          "gridcolor": "white",
                          "linecolor": "white",
                          "minorgridcolor": "white",
                          "startlinecolor": "#2a3f5f"
                        },
                        "type": "carpet"
                      }
                    ],
                    "choropleth": [
                      {
                        "colorbar": {
                          "outlinewidth": 0,
                          "ticks": ""
                        },
                        "type": "choropleth"
                      }
                    ],
                    "contour": [
                      {
                        "colorbar": {
                          "outlinewidth": 0,
                          "ticks": ""
                        },
                        "colorscale": [
                          [
                            0,
                            "#0d0887"
                          ],
                          [
                            0.1111111111111111,
                            "#46039f"
                          ],
                          [
                            0.2222222222222222,
                            "#7201a8"
                          ],
                          [
                            0.3333333333333333,
                            "#9c179e"
                          ],
                          [
                            0.4444444444444444,
                            "#bd3786"
                          ],
                          [
                            0.5555555555555556,
                            "#d8576b"
                          ],
                          [
                            0.6666666666666666,
                            "#ed7953"
                          ],
                          [
                            0.7777777777777778,
                            "#fb9f3a"
                          ],
                          [
                            0.8888888888888888,
                            "#fdca26"
                          ],
                          [
                            1,
                            "#f0f921"
                          ]
                        ],
                        "type": "contour"
                      }
                    ],
                    "contourcarpet": [
                      {
                        "colorbar": {
                          "outlinewidth": 0,
                          "ticks": ""
                        },
                        "type": "contourcarpet"
                      }
                    ],
                    "heatmap": [
                      {
                        "colorbar": {
                          "outlinewidth": 0,
                          "ticks": ""
                        },
                        "colorscale": [
                          [
                            0,
                            "#0d0887"
                          ],
                          [
                            0.1111111111111111,
                            "#46039f"
                          ],
                          [
                            0.2222222222222222,
                            "#7201a8"
                          ],
                          [
                            0.3333333333333333,
                            "#9c179e"
                          ],
                          [
                            0.4444444444444444,
                            "#bd3786"
                          ],
                          [
                            0.5555555555555556,
                            "#d8576b"
                          ],
                          [
                            0.6666666666666666,
                            "#ed7953"
                          ],
                          [
                            0.7777777777777778,
                            "#fb9f3a"
                          ],
                          [
                            0.8888888888888888,
                            "#fdca26"
                          ],
                          [
                            1,
                            "#f0f921"
                          ]
                        ],
                        "type": "heatmap"
                      }
                    ],
                    "histogram": [
                      {
                        "marker": {
                          "pattern": {
                            "fillmode": "overlay",
                            "size": 10,
                            "solidity": 0.2
                          }
                        },
                        "type": "histogram"
                      }
                    ],
                    "histogram2d": [
                      {
                        "colorbar": {
                          "outlinewidth": 0,
                          "ticks": ""
                        },
                        "colorscale": [
                          [
                            0,
                            "#0d0887"
                          ],
                          [
                            0.1111111111111111,
                            "#46039f"
                          ],
                          [
                            0.2222222222222222,
                            "#7201a8"
                          ],
                          [
                            0.3333333333333333,
                            "#9c179e"
                          ],
                          [
                            0.4444444444444444,
                            "#bd3786"
                          ],
                          [
                            0.5555555555555556,
                            "#d8576b"
                          ],
                          [
                            0.6666666666666666,
                            "#ed7953"
                          ],
                          [
                            0.7777777777777778,
                            "#fb9f3a"
                          ],
                          [
                            0.8888888888888888,
                            "#fdca26"
                          ],
                          [
                            1,
                            "#f0f921"
                          ]
                        ],
                        "type": "histogram2d"
                      }
                    ],
                    "histogram2dcontour": [
                      {
                        "colorbar": {
                          "outlinewidth": 0,
                          "ticks": ""
                        },
                        "colorscale": [
                          [
                            0,
                            "#0d0887"
                          ],
                          [
                            0.1111111111111111,
                            "#46039f"
                          ],
                          [
                            0.2222222222222222,
                            "#7201a8"
                          ],
                          [
                            0.3333333333333333,
                            "#9c179e"
                          ],
                          [
                            0.4444444444444444,
                            "#bd3786"
                          ],
                          [
                            0.5555555555555556,
                            "#d8576b"
                          ],
                          [
                            0.6666666666666666,
                            "#ed7953"
                          ],
                          [
                            0.7777777777777778,
                            "#fb9f3a"
                          ],
                          [
                            0.8888888888888888,
                            "#fdca26"
                          ],
                          [
                            1,
                            "#f0f921"
                          ]
                        ],
                        "type": "histogram2dcontour"
                      }
                    ],
                    "mesh3d": [
                      {
                        "colorbar": {
                          "outlinewidth": 0,
                          "ticks": ""
                        },
                        "type": "mesh3d"
                      }
                    ],
                    "parcoords": [
                      {
                        "line": {
                          "colorbar": {
                            "outlinewidth": 0,
                            "ticks": ""
                          }
                        },
                        "type": "parcoords"
                      }
                    ],
                    "pie": [
                      {
                        "automargin": true,
                        "type": "pie"
                      }
                    ],
                    "scatter": [
                      {
                        "fillpattern": {
                          "fillmode": "overlay",
                          "size": 10,
                          "solidity": 0.2
                        },
                        "type": "scatter"
                      }
                    ],
                    "scatter3d": [
                      {
                        "line": {
                          "colorbar": {
                            "outlinewidth": 0,
                            "ticks": ""
                          }
                        },
                        "marker": {
                          "colorbar": {
                            "outlinewidth": 0,
                            "ticks": ""
                          }
                        },
                        "type": "scatter3d"
                      }
                    ],
                    "scattercarpet": [
                      {
                        "marker": {
                          "colorbar": {
                            "outlinewidth": 0,
                            "ticks": ""
                          }
                        },
                        "type": "scattercarpet"
                      }
                    ],
                    "scattergeo": [
                      {
                        "marker": {
                          "colorbar": {
                            "outlinewidth": 0,
                            "ticks": ""
                          }
                        },
                        "type": "scattergeo"
                      }
                    ],
                    "scattergl": [
                      {
                        "marker": {
                          "colorbar": {
                            "outlinewidth": 0,
                            "ticks": ""
                          }
                        },
                        "type": "scattergl"
                      }
                    ],
                    "scattermap": [
                      {
                        "marker": {
                          "colorbar": {
                            "outlinewidth": 0,
                            "ticks": ""
                          }
                        },
                        "type": "scattermap"
                      }
                    ],
                    "scattermapbox": [
                      {
                        "marker": {
                          "colorbar": {
                            "outlinewidth": 0,
                            "ticks": ""
                          }
                        },
                        "type": "scattermapbox"
                      }
                    ],
                    "scatterpolar": [
                      {
                        "marker": {
                          "colorbar": {
                            "outlinewidth": 0,
                            "ticks": ""
                          }
                        },
                        "type": "scatterpolar"
                      }
                    ],
                    "scatterpolargl": [
                      {
                        "marker": {
                          "colorbar": {
                            "outlinewidth": 0,
                            "ticks": ""
                          }
                        },
                        "type": "scatterpolargl"
                      }
                    ],
                    "scatterternary": [
                      {
                        "marker": {
                          "colorbar": {
                            "outlinewidth": 0,
                            "ticks": ""
                          }
                        },
                        "type": "scatterternary"
                      }
                    ],
                    "surface": [
                      {
                        "colorbar": {
                          "outlinewidth": 0,
                          "ticks": ""
                        },
                        "colorscale": [
                          [
                            0,
                            "#0d0887"
                          ],
                          [
                            0.1111111111111111,
                            "#46039f"
                          ],
                          [
                            0.2222222222222222,
                            "#7201a8"
                          ],
                          [
                            0.3333333333333333,
                            "#9c179e"
                          ],
                          [
                            0.4444444444444444,
                            "#bd3786"
                          ],
                          [
                            0.5555555555555556,
                            "#d8576b"
                          ],
                          [
                            0.6666666666666666,
                            "#ed7953"
                          ],
                          [
                            0.7777777777777778,
                            "#fb9f3a"
                          ],
                          [
                            0.8888888888888888,
                            "#fdca26"
                          ],
                          [
                            1,
                            "#f0f921"
                          ]
                        ],
                        "type": "surface"
                      }
                    ],
                    "table": [
                      {
                        "cells": {
                          "fill": {
                            "color": "#EBF0F8"
                          },
                          "line": {
                            "color": "white"
                          }
                        },
                        "header": {
                          "fill": {
                            "color": "#C8D4E3"
                          },
                          "line": {
                            "color": "white"
                          }
                        },
                        "type": "table"
                      }
                    ]
                  },
                  "layout": {
                    "annotationdefaults": {
                      "arrowcolor": "#2a3f5f",
                      "arrowhead": 0,
                      "arrowwidth": 1
                    },
                    "autotypenumbers": "strict",
                    "coloraxis": {
                      "colorbar": {
                        "outlinewidth": 0,
                        "ticks": ""
                      }
                    },
                    "colorscale": {
                      "diverging": [
                        [
                          0,
                          "#8e0152"
                        ],
                        [
                          0.1,
                          "#c51b7d"
                        ],
                        [
                          0.2,
                          "#de77ae"
                        ],
                        [
                          0.3,
                          "#f1b6da"
                        ],
                        [
                          0.4,
                          "#fde0ef"
                        ],
                        [
                          0.5,
                          "#f7f7f7"
                        ],
                        [
                          0.6,
                          "#e6f5d0"
                        ],
                        [
                          0.7,
                          "#b8e186"
                        ],
                        [
                          0.8,
                          "#7fbc41"
                        ],
                        [
                          0.9,
                          "#4d9221"
                        ],
                        [
                          1,
                          "#276419"
                        ]
                      ],
                      "sequential": [
                        [
                          0,
                          "#0d0887"
                        ],
                        [
                          0.1111111111111111,
                          "#46039f"
                        ],
                        [
                          0.2222222222222222,
                          "#7201a8"
                        ],
                        [
                          0.3333333333333333,
                          "#9c179e"
                        ],
                        [
                          0.4444444444444444,
                          "#bd3786"
                        ],
                        [
                          0.5555555555555556,
                          "#d8576b"
                        ],
                        [
                          0.6666666666666666,
                          "#ed7953"
                        ],
                        [
                          0.7777777777777778,
                          "#fb9f3a"
                        ],
                        [
                          0.8888888888888888,
                          "#fdca26"
                        ],
                        [
                          1,
                          "#f0f921"
                        ]
                      ],
                      "sequentialminus": [
                        [
                          0,
                          "#0d0887"
                        ],
                        [
                          0.1111111111111111,
                          "#46039f"
                        ],
                        [
                          0.2222222222222222,
                          "#7201a8"
                        ],
                        [
                          0.3333333333333333,
                          "#9c179e"
                        ],
                        [
                          0.4444444444444444,
                          "#bd3786"
                        ],
                        [
                          0.5555555555555556,
                          "#d8576b"
                        ],
                        [
                          0.6666666666666666,
                          "#ed7953"
                        ],
                        [
                          0.7777777777777778,
                          "#fb9f3a"
                        ],
                        [
                          0.8888888888888888,
                          "#fdca26"
                        ],
                        [
                          1,
                          "#f0f921"
                        ]
                      ]
                    },
                    "colorway": [
                      "#636efa",
                      "#EF553B",
                      "#00cc96",
                      "#ab63fa",
                      "#FFA15A",
                      "#19d3f3",
                      "#FF6692",
                      "#B6E880",
                      "#FF97FF",
                      "#FECB52"
                    ],
                    "font": {
                      "color": "#2a3f5f"
                    },
                    "geo": {
                      "bgcolor": "white",
                      "lakecolor": "white",
                      "landcolor": "#E5ECF6",
                      "showlakes": true,
                      "showland": true,
                      "subunitcolor": "white"
                    },
                    "hoverlabel": {
                      "align": "left"
                    },
                    "hovermode": "closest",
                    "mapbox": {
                      "style": "light"
                    },
                    "paper_bgcolor": "white",
                    "plot_bgcolor": "#E5ECF6",
                    "polar": {
                      "angularaxis": {
                        "gridcolor": "white",
                        "linecolor": "white",
                        "ticks": ""
                      },
                      "bgcolor": "#E5ECF6",
                      "radialaxis": {
                        "gridcolor": "white",
                        "linecolor": "white",
                        "ticks": ""
                      }
                    },
                    "scene": {
                      "xaxis": {
                        "backgroundcolor": "#E5ECF6",
                        "gridcolor": "white",
                        "gridwidth": 2,
                        "linecolor": "white",
                        "showbackground": true,
                        "ticks": "",
                        "zerolinecolor": "white"
                      },
                      "yaxis": {
                        "backgroundcolor": "#E5ECF6",
                        "gridcolor": "white",
                        "gridwidth": 2,
                        "linecolor": "white",
                        "showbackground": true,
                        "ticks": "",
                        "zerolinecolor": "white"
                      },
                      "zaxis": {
                        "backgroundcolor": "#E5ECF6",
                        "gridcolor": "white",
                        "gridwidth": 2,
                        "linecolor": "white",
                        "showbackground": true,
                        "ticks": "",
                        "zerolinecolor": "white"
                      }
                    },
                    "shapedefaults": {
                      "line": {
                        "color": "#2a3f5f"
                      }
                    },
                    "ternary": {
                      "aaxis": {
                        "gridcolor": "white",
                        "linecolor": "white",
                        "ticks": ""
                      },
                      "baxis": {
                        "gridcolor": "white",
                        "linecolor": "white",
                        "ticks": ""
                      },
                      "bgcolor": "#E5ECF6",
                      "caxis": {
                        "gridcolor": "white",
                        "linecolor": "white",
                        "ticks": ""
                      }
                    },
                    "title": {
                      "x": 0.05
                    },
                    "xaxis": {
                      "automargin": true,
                      "gridcolor": "white",
                      "linecolor": "white",
                      "ticks": "",
                      "title": {
                        "standoff": 15
                      },
                      "zerolinecolor": "white",
                      "zerolinewidth": 2
                    },
                    "yaxis": {
                      "automargin": true,
                      "gridcolor": "white",
                      "linecolor": "white",
                      "ticks": "",
                      "title": {
                        "standoff": 15
                      },
                      "zerolinecolor": "white",
                      "zerolinewidth": 2
                    }
                  }
                },
                "xaxis": {
                  "anchor": "y",
                  "domain": [
                    0,
                    1
                  ],
                  "title": {
                    "text": "Time [s]"
                  }
                },
                "yaxis": {
                  "anchor": "x",
                  "domain": [
                    0,
                    1
                  ],
                  "title": {
                    "text": "Y position [m]"
                  }
                }
              }
            }
          },
          "metadata": {},
          "output_type": "display_data"
        },
        {
          "data": {
            "application/vnd.plotly.v1+json": {
              "config": {
                "plotlyServerURL": "https://plot.ly"
              },
              "data": [
                {
                  "hovertemplate": "Time=%{x}<br>X position [m]=%{y}<extra></extra>",
                  "legendgroup": "",
                  "line": {
                    "color": "blue",
                    "dash": "solid",
                    "width": 4
                  },
                  "marker": {
                    "symbol": "circle"
                  },
                  "mode": "lines",
                  "name": "",
                  "showlegend": false,
                  "type": "scattergl",
                  "x": {
                    "bdata": "AAAAAAAAAAB7FK5H4XqEP3sUrkfhepQ/uB6F61G4nj97FK5H4XqkP5qZmZmZmak/uB6F61G4rj/sUbgeheuxP3sUrkfherQ/CtejcD0Ktz+amZmZmZm5Pylcj8L1KLw/uB6F61G4vj+kcD0K16PAP+xRuB6F68E/MzMzMzMzwz97FK5H4XrEP8P1KFyPwsU/CtejcD0Kxz9SuB6F61HIP5qZmZmZmck/4XoUrkfhyj8pXI/C9SjMP3E9CtejcM0/uB6F61G4zj8AAAAAAADQP6RwPQrXo9A/SOF6FK5H0T/sUbgehevRP4/C9Shcj9I/MzMzMzMz0z/Xo3A9CtfTP3sUrkfhetQ/H4XrUbge1T/D9Shcj8LVP2dmZmZmZtY/CtejcD0K1z+uR+F6FK7XP1K4HoXrUdg/9ihcj8L12D+amZmZmZnZPz4K16NwPdo/4XoUrkfh2j+F61G4HoXbPylcj8L1KNw/zczMzMzM3D9xPQrXo3DdPxWuR+F6FN4/uB6F61G43j9cj8L1KFzfPwAAAAAAAOA/UrgehetR4D+kcD0K16PgP/YoXI/C9eA/SOF6FK5H4T+amZmZmZnhP+xRuB6F6+E/PgrXo3A94j+PwvUoXI/iP+F6FK5H4eI/MzMzMzMz4z+F61G4HoXjP9ejcD0K1+M/KVyPwvUo5D97FK5H4XrkP83MzMzMzOQ/H4XrUbge5T9xPQrXo3DlP8P1KFyPwuU/Fa5H4XoU5j9nZmZmZmbmP7gehetRuOY/CtejcD0K5z9cj8L1KFznP65H4XoUruc/AAAAAAAA6D9SuB6F61HoP6RwPQrXo+g/9ihcj8L16D9I4XoUrkfpP5qZmZmZmek/7FG4HoXr6T8+CtejcD3qP5DC9Shcj+o/4XoUrkfh6j8zMzMzMzPrP4XrUbgehes/16NwPQrX6z8pXI/C9SjsP3sUrkfheuw/zczMzMzM7D8fhetRuB7tP3E9CtejcO0/w/UoXI/C7T8VrkfhehTuP2dmZmZmZu4/uB6F61G47j8K16NwPQrvP1yPwvUoXO8/rkfhehSu7z8AAAAAAADwPylcj8L1KPA/UrgehetR8D97FK5H4XrwP6RwPQrXo/A/zczMzMzM8D/2KFyPwvXwPx+F61G4HvE/SOF6FK5H8T9xPQrXo3DxP5qZmZmZmfE/w/UoXI/C8T/sUbgehevxPxWuR+F6FPI/PgrXo3A98j9nZmZmZmbyP4/C9Shcj/I/uB6F61G48j/hehSuR+HyPwrXo3A9CvM/MzMzMzMz8z9cj8L1KFzzP4XrUbgehfM/rkfhehSu8z/Xo3A9CtfzPwAAAAAAAPQ/KVyPwvUo9D9SuB6F61H0P3sUrkfhevQ/pHA9Ctej9D/NzMzMzMz0P/YoXI/C9fQ/H4XrUbge9T9I4XoUrkf1P3E9CtejcPU/mpmZmZmZ9T/D9Shcj8L1P+xRuB6F6/U/Fa5H4XoU9j8+CtejcD32P2dmZmZmZvY/j8L1KFyP9j+4HoXrUbj2P+F6FK5H4fY/CtejcD0K9z8zMzMzMzP3P1yPwvUoXPc/hetRuB6F9z+uR+F6FK73P9ejcD0K1/c/AAAAAAAA+D8pXI/C9Sj4P1K4HoXrUfg/exSuR+F6+D+kcD0K16P4P83MzMzMzPg/9ihcj8L1+D8fhetRuB75P0jhehSuR/k/cT0K16Nw+T+amZmZmZn5P8P1KFyPwvk/7FG4HoXr+T8VrkfhehT6Pz4K16NwPfo/Z2ZmZmZm+j+QwvUoXI/6P7gehetRuPo/4XoUrkfh+j8K16NwPQr7PzMzMzMzM/s/XI/C9Shc+z+F61G4HoX7P65H4XoUrvs/16NwPQrX+z8AAAAAAAD8Pylcj8L1KPw/UrgehetR/D97FK5H4Xr8P6RwPQrXo/w/zczMzMzM/D/2KFyPwvX8Px+F61G4Hv0/SOF6FK5H/T9xPQrXo3D9P5qZmZmZmf0/w/UoXI/C/T/sUbgehev9PxWuR+F6FP4/PgrXo3A9/j9nZmZmZmb+P5DC9Shcj/4/uB6F61G4/j/hehSuR+H+PwrXo3A9Cv8/MzMzMzMz/z9cj8L1KFz/P4XrUbgehf8/rkfhehSu/z/Xo3A9Ctf/PwAAAAAAAABAFa5H4XoUAEApXI/C9SgAQD4K16NwPQBAUrgehetRAEBmZmZmZmYAQHsUrkfhegBAj8L1KFyPAECkcD0K16MAQLgehetRuABAzczMzMzMAEDhehSuR+EAQPYoXI/C9QBACtejcD0KAUAfhetRuB4BQDMzMzMzMwFASOF6FK5HAUBcj8L1KFwBQHE9CtejcAFAhetRuB6FAUCamZmZmZkBQK5H4XoUrgFAw/UoXI/CAUDXo3A9CtcBQOxRuB6F6wFAAAAAAAAAAkAVrkfhehQCQClcj8L1KAJAPgrXo3A9AkBSuB6F61ECQGdmZmZmZgJAexSuR+F6AkCPwvUoXI8CQKRwPQrXowJAuB6F61G4AkDNzMzMzMwCQOF6FK5H4QJA9ihcj8L1AkAK16NwPQoDQB+F61G4HgNAMzMzMzMzA0BI4XoUrkcDQFyPwvUoXANAcT0K16NwA0CF61G4HoUDQJqZmZmZmQNArkfhehSuA0DD9Shcj8IDQNejcD0K1wNA7FG4HoXrA0AAAAAAAAAEQBWuR+F6FARAKVyPwvUoBEA+CtejcD0EQFK4HoXrUQRAZ2ZmZmZmBEB7FK5H4XoEQI/C9ShcjwRApHA9CtejBEC4HoXrUbgEQM3MzMzMzARA4XoUrkfhBED2KFyPwvUEQArXo3A9CgVAH4XrUbgeBUAzMzMzMzMFQEjhehSuRwVAXI/C9ShcBUBxPQrXo3AFQIXrUbgehQVAmpmZmZmZBUCuR+F6FK4FQMP1KFyPwgVA16NwPQrXBUDsUbgehesFQAAAAAAAAAZAFa5H4XoUBkApXI/C9SgGQD4K16NwPQZAUrgehetRBkBnZmZmZmYGQHsUrkfhegZAj8L1KFyPBkCkcD0K16MGQLgehetRuAZAzczMzMzMBkDhehSuR+EGQPYoXI/C9QZACtejcD0KB0AfhetRuB4HQDMzMzMzMwdASOF6FK5HB0Bcj8L1KFwHQHE9CtejcAdAhetRuB6FB0CamZmZmZkHQK5H4XoUrgdAw/UoXI/CB0DXo3A9CtcHQOxRuB6F6wdAAAAAAAAACEAVrkfhehQIQClcj8L1KAhAPgrXo3A9CEBSuB6F61EIQGdmZmZmZghAexSuR+F6CECQwvUoXI8IQKRwPQrXowhAuB6F61G4CEDNzMzMzMwIQOF6FK5H4QhA9ihcj8L1CEAK16NwPQoJQB+F61G4HglAMzMzMzMzCUBI4XoUrkcJQFyPwvUoXAlAcT0K16NwCUCF61G4HoUJQJqZmZmZmQlArkfhehSuCUDD9Shcj8IJQNejcD0K1wlA7FG4HoXrCUAAAAAAAAAKQBWuR+F6FApAKVyPwvUoCkA+CtejcD0KQFK4HoXrUQpAZ2ZmZmZmCkB7FK5H4XoKQJDC9ShcjwpApHA9CtejCkC4HoXrUbgKQM3MzMzMzApA4XoUrkfhCkD2KFyPwvUKQArXo3A9CgtAH4XrUbgeC0AzMzMzMzMLQEjhehSuRwtAXI/C9ShcC0BxPQrXo3ALQIXrUbgehQtAmpmZmZmZC0CuR+F6FK4LQMP1KFyPwgtA16NwPQrXC0DsUbgehesLQAAAAAAAAAxAFa5H4XoUDEApXI/C9SgMQD4K16NwPQxAUrgehetRDEBnZmZmZmYMQHsUrkfhegxAkML1KFyPDECkcD0K16MMQLgehetRuAxAzczMzMzMDEDhehSuR+EMQPYoXI/C9QxACtejcD0KDUAfhetRuB4NQDMzMzMzMw1ASOF6FK5HDUBcj8L1KFwNQHE9CtejcA1AhetRuB6FDUCamZmZmZkNQK5H4XoUrg1Aw/UoXI/CDUDXo3A9CtcNQOxRuB6F6w1AAAAAAAAADkAVrkfhehQOQClcj8L1KA5APgrXo3A9DkBSuB6F61EOQGdmZmZmZg5AexSuR+F6DkCQwvUoXI8OQKRwPQrXow5AuB6F61G4DkDNzMzMzMwOQOF6FK5H4Q5A9ihcj8L1DkAK16NwPQoPQB+F61G4Hg9AMzMzMzMzD0BI4XoUrkcPQFyPwvUoXA9AcT0K16NwD0CF61G4HoUPQJqZmZmZmQ9ArkfhehSuD0DD9Shcj8IPQNejcD0K1w9A7FG4HoXrD0AAAAAAAAAQQArXo3A9ChBAFa5H4XoUEEAfhetRuB4QQClcj8L1KBBAMzMzMzMzEEA+CtejcD0QQEjhehSuRxBAUrgehetREEBcj8L1KFwQQGZmZmZmZhBAcT0K16NwEEB7FK5H4XoQQIXrUbgehRBAj8L1KFyPEECamZmZmZkQQKRwPQrXoxBArkfhehSuEEC4HoXrUbgQQMP1KFyPwhBAzczMzMzMEEDXo3A9CtcQQOF6FK5H4RBA7FG4HoXrEED2KFyPwvUQQAAAAAAAABFACtejcD0KEUAVrkfhehQRQB+F61G4HhFAKVyPwvUoEUAzMzMzMzMRQD4K16NwPRFASOF6FK5HEUBSuB6F61ERQFyPwvUoXBFAZ2ZmZmZmEUBxPQrXo3ARQHsUrkfhehFAhetRuB6FEUCPwvUoXI8RQJqZmZmZmRFApHA9CtejEUCuR+F6FK4RQLgehetRuBFAw/UoXI/CEUDNzMzMzMwRQNejcD0K1xFA4XoUrkfhEUDsUbgehesRQPYoXI/C9RFAAAAAAAAAEkAK16NwPQoSQBWuR+F6FBJAH4XrUbgeEkApXI/C9SgSQDMzMzMzMxJAPgrXo3A9EkBI4XoUrkcSQFK4HoXrURJAXI/C9ShcEkBnZmZmZmYSQHE9CtejcBJAexSuR+F6EkCF61G4HoUSQI/C9ShcjxJAmpmZmZmZEkCkcD0K16MSQK5H4XoUrhJAuB6F61G4EkDD9Shcj8ISQM3MzMzMzBJA16NwPQrXEkDhehSuR+ESQOxRuB6F6xJA9ihcj8L1EkAAAAAAAAATQArXo3A9ChNAFa5H4XoUE0AfhetRuB4TQClcj8L1KBNAMzMzMzMzE0A+CtejcD0TQEjhehSuRxNAUrgehetRE0Bcj8L1KFwTQGdmZmZmZhNAcT0K16NwE0B7FK5H4XoTQIXrUbgehRNAj8L1KFyPE0CamZmZmZkTQKRwPQrXoxNArkfhehSuE0C4HoXrUbgTQMP1KFyPwhNAzczMzMzME0DXo3A9CtcTQOF6FK5H4RNA7FG4HoXrE0D2KFyPwvUTQAAAAAAAABRACtejcD0KFEAVrkfhehQUQB+F61G4HhRAKVyPwvUoFEAzMzMzMzMUQD4K16NwPRRASOF6FK5HFEBSuB6F61EUQFyPwvUoXBRAZ2ZmZmZmFEBxPQrXo3AUQHsUrkfhehRAhetRuB6FFECPwvUoXI8UQJqZmZmZmRRApHA9CtejFECuR+F6FK4UQLgehetRuBRAw/UoXI/CFEDNzMzMzMwUQNejcD0K1xRA4XoUrkfhFEDsUbgehesUQPYoXI/C9RRAAAAAAAAAFUAK16NwPQoVQBWuR+F6FBVAH4XrUbgeFUApXI/C9SgVQDMzMzMzMxVAPgrXo3A9FUBI4XoUrkcVQFK4HoXrURVAXI/C9ShcFUBnZmZmZmYVQHE9CtejcBVAexSuR+F6FUCF61G4HoUVQI/C9ShcjxVAmpmZmZmZFUCkcD0K16MVQK5H4XoUrhVAuB6F61G4FUDD9Shcj8IVQM3MzMzMzBVA16NwPQrXFUDhehSuR+EVQOxRuB6F6xVA9ihcj8L1FUAAAAAAAAAWQArXo3A9ChZAFa5H4XoUFkAfhetRuB4WQClcj8L1KBZAMzMzMzMzFkA+CtejcD0WQEjhehSuRxZAUrgehetRFkBcj8L1KFwWQGdmZmZmZhZAcT0K16NwFkB7FK5H4XoWQIXrUbgehRZAj8L1KFyPFkCamZmZmZkWQKRwPQrXoxZArkfhehSuFkC4HoXrUbgWQMP1KFyPwhZAzczMzMzMFkDXo3A9CtcWQOF6FK5H4RZA7FG4HoXrFkD2KFyPwvUWQAAAAAAAABdACtejcD0KF0AVrkfhehQXQB+F61G4HhdAKVyPwvUoF0AzMzMzMzMXQD4K16NwPRdASOF6FK5HF0BSuB6F61EXQFyPwvUoXBdAZ2ZmZmZmF0BxPQrXo3AXQHsUrkfhehdAhetRuB6FF0CPwvUoXI8XQJqZmZmZmRdApHA9CtejF0CuR+F6FK4XQLgehetRuBdAw/UoXI/CF0DNzMzMzMwXQNejcD0K1xdA4XoUrkfhF0DsUbgehesXQPYoXI/C9RdAAAAAAAAAGEAK16NwPQoYQBWuR+F6FBhAH4XrUbgeGEApXI/C9SgYQDMzMzMzMxhAPgrXo3A9GEBI4XoUrkcYQFK4HoXrURhAXI/C9ShcGEBnZmZmZmYYQHE9CtejcBhAexSuR+F6GECF61G4HoUYQJDC9ShcjxhAmpmZmZmZGECkcD0K16MYQK5H4XoUrhhAuB6F61G4GEDD9Shcj8IYQM3MzMzMzBhA16NwPQrXGEDhehSuR+EYQOxRuB6F6xhA9ihcj8L1GEAAAAAAAAAZQArXo3A9ChlAFa5H4XoUGUAfhetRuB4ZQClcj8L1KBlAMzMzMzMzGUA+CtejcD0ZQEjhehSuRxlAUrgehetRGUBcj8L1KFwZQGdmZmZmZhlAcT0K16NwGUB7FK5H4XoZQIXrUbgehRlAkML1KFyPGUCamZmZmZkZQKRwPQrXoxlArkfhehSuGUC4HoXrUbgZQMP1KFyPwhlAzczMzMzMGUDXo3A9CtcZQOF6FK5H4RlA7FG4HoXrGUD2KFyPwvUZQAAAAAAAABpACtejcD0KGkAVrkfhehQaQB+F61G4HhpAKVyPwvUoGkAzMzMzMzMaQD4K16NwPRpASOF6FK5HGkBSuB6F61EaQFyPwvUoXBpAZ2ZmZmZmGkBxPQrXo3AaQHsUrkfhehpAhetRuB6FGkCQwvUoXI8aQJqZmZmZmRpApHA9CtejGkCuR+F6FK4aQLgehetRuBpAw/UoXI/CGkDNzMzMzMwaQNejcD0K1xpA4XoUrkfhGkDsUbgehesaQPYoXI/C9RpAAAAAAAAAG0AK16NwPQobQBWuR+F6FBtAH4XrUbgeG0ApXI/C9SgbQDMzMzMzMxtAPgrXo3A9G0BI4XoUrkcbQFK4HoXrURtAXI/C9ShcG0BnZmZmZmYbQHE9CtejcBtAexSuR+F6G0CF61G4HoUbQJDC9ShcjxtAmpmZmZmZG0CkcD0K16MbQK5H4XoUrhtAuB6F61G4G0DD9Shcj8IbQM3MzMzMzBtA16NwPQrXG0DhehSuR+EbQOxRuB6F6xtA9ihcj8L1G0AAAAAAAAAcQArXo3A9ChxAFa5H4XoUHEAfhetRuB4cQClcj8L1KBxAMzMzMzMzHEA+CtejcD0cQEjhehSuRxxAUrgehetRHEBcj8L1KFwcQGdmZmZmZhxAcT0K16NwHEB7FK5H4XocQIXrUbgehRxAkML1KFyPHECamZmZmZkcQKRwPQrXoxxArkfhehSuHEC4HoXrUbgcQMP1KFyPwhxAzczMzMzMHEDXo3A9CtccQOF6FK5H4RxA7FG4HoXrHED2KFyPwvUcQAAAAAAAAB1ACtejcD0KHUAVrkfhehQdQB+F61G4Hh1AKVyPwvUoHUAzMzMzMzMdQD4K16NwPR1ASOF6FK5HHUBSuB6F61EdQFyPwvUoXB1AZ2ZmZmZmHUBxPQrXo3AdQHsUrkfheh1AhetRuB6FHUCQwvUoXI8dQJqZmZmZmR1ApHA9CtejHUCuR+F6FK4dQLgehetRuB1Aw/UoXI/CHUDNzMzMzMwdQNejcD0K1x1A4XoUrkfhHUDsUbgehesdQPYoXI/C9R1AAAAAAAAAHkAK16NwPQoeQBWuR+F6FB5AH4XrUbgeHkApXI/C9SgeQDMzMzMzMx5APgrXo3A9HkBI4XoUrkceQFK4HoXrUR5AXI/C9ShcHkBnZmZmZmYeQHE9CtejcB5AexSuR+F6HkCF61G4HoUeQJDC9Shcjx5AmpmZmZmZHkCkcD0K16MeQK5H4XoUrh5AuB6F61G4HkDD9Shcj8IeQM3MzMzMzB5A16NwPQrXHkDhehSuR+EeQOxRuB6F6x5A9ihcj8L1HkAAAAAAAAAfQArXo3A9Ch9AFa5H4XoUH0AfhetRuB4fQClcj8L1KB9AMzMzMzMzH0A+CtejcD0fQEjhehSuRx9AUrgehetRH0Bcj8L1KFwfQGdmZmZmZh9AcT0K16NwH0B7FK5H4XofQIXrUbgehR9AkML1KFyPH0CamZmZmZkfQKRwPQrXox9ArkfhehSuH0C5HoXrUbgfQMP1KFyPwh9AzczMzMzMH0DXo3A9CtcfQOF6FK5H4R9A7FG4HoXrH0D2KFyPwvUfQAAAAAAAACBAhetRuB4FIEAK16NwPQogQI/C9ShcDyBAFa5H4XoUIECamZmZmRkgQB+F61G4HiBApHA9CtcjIEApXI/C9SggQK5H4XoULiBAMzMzMzMzIEC4HoXrUTggQD4K16NwPSBAw/UoXI9CIEBI4XoUrkcgQM3MzMzMTCBAUrgehetRIEDXo3A9ClcgQFyPwvUoXCBA4XoUrkdhIEBmZmZmZmYgQOxRuB6FayBAcT0K16NwIED2KFyPwnUgQHsUrkfheiBAAAAAAACAIECF61G4HoUgQArXo3A9iiBAj8L1KFyPIEAVrkfhepQgQJqZmZmZmSBAH4XrUbieIECkcD0K16MgQClcj8L1qCBArkfhehSuIEAzMzMzM7MgQLgehetRuCBAPgrXo3C9IEDD9Shcj8IgQEjhehSuxyBAzczMzMzMIEBSuB6F69EgQNejcD0K1yBAXI/C9SjcIEDhehSuR+EgQGZmZmZm5iBA7FG4HoXrIEBxPQrXo/AgQPYoXI/C9SBAexSuR+H6IEAAAAAAAAAhQIXrUbgeBSFACtejcD0KIUCPwvUoXA8hQBWuR+F6FCFAmpmZmZkZIUAfhetRuB4hQKRwPQrXIyFAKVyPwvUoIUCuR+F6FC4hQDMzMzMzMyFAuB6F61E4IUA+CtejcD0hQMP1KFyPQiFASOF6FK5HIUDNzMzMzEwhQFK4HoXrUSFA16NwPQpXIUBcj8L1KFwhQOF6FK5HYSFAZ2ZmZmZmIUDsUbgehWshQHE9CtejcCFA9ihcj8J1IUB7FK5H4XohQAAAAAAAgCFAhetRuB6FIUAK16NwPYohQI/C9ShcjyFAFa5H4XqUIUCamZmZmZkhQB+F61G4niFApHA9CtejIUApXI/C9aghQK5H4XoUriFAMzMzMzOzIUC4HoXrUbghQD4K16NwvSFAw/UoXI/CIUBI4XoUrschQM3MzMzMzCFAUrgehevRIUDXo3A9CtchQFyPwvUo3CFA4XoUrkfhIUBnZmZmZuYhQOxRuB6F6yFAcT0K16PwIUD2KFyPwvUhQHsUrkfh+iFAAAAAAAAAIkCF61G4HgUiQArXo3A9CiJAj8L1KFwPIkAVrkfhehQiQJqZmZmZGSJAH4XrUbgeIkCkcD0K1yMiQClcj8L1KCJArkfhehQuIkAzMzMzMzMiQLgehetROCJAPgrXo3A9IkDD9Shcj0IiQEjhehSuRyJAzczMzMxMIkBSuB6F61EiQNejcD0KVyJAXI/C9ShcIkDhehSuR2EiQGdmZmZmZiJA7FG4HoVrIkBxPQrXo3AiQPYoXI/CdSJAexSuR+F6IkAAAAAAAIAiQIXrUbgehSJACtejcD2KIkCPwvUoXI8iQBWuR+F6lCJAmpmZmZmZIkAfhetRuJ4iQKRwPQrXoyJAKVyPwvWoIkCuR+F6FK4iQDMzMzMzsyJAuB6F61G4IkA+CtejcL0iQMP1KFyPwiJASOF6FK7HIkDNzMzMzMwiQFK4HoXr0SJA16NwPQrXIkBcj8L1KNwiQOF6FK5H4SJAZ2ZmZmbmIkDsUbgehesiQHE9Ctej8CJA9ihcj8L1IkB7FK5H4foiQAAAAAAAACNAhetRuB4FI0AK16NwPQojQI/C9ShcDyNAFa5H4XoUI0CamZmZmRkjQB+F61G4HiNApHA9CtcjI0ApXI/C9SgjQK5H4XoULiNAMzMzMzMzI0C4HoXrUTgjQD4K16NwPSNAw/UoXI9CI0BI4XoUrkcjQM3MzMzMTCNAUrgehetRI0DXo3A9ClcjQFyPwvUoXCNA4XoUrkdhI0BnZmZmZmYjQOxRuB6FayNAcT0K16NwI0D2KFyPwnUjQHsUrkfheiNAAAAAAACAI0CF61G4HoUjQArXo3A9iiNAj8L1KFyPI0AVrkfhepQjQJqZmZmZmSNAH4XrUbieI0CkcD0K16MjQClcj8L1qCNArkfhehSuI0AzMzMzM7MjQLgehetRuCNAPgrXo3C9I0DD9Shcj8IjQEjhehSuxyNAzczMzMzMI0BSuB6F69EjQNejcD0K1yNAXI/C9SjcI0DhehSuR+EjQGdmZmZm5iNA7FG4HoXrI0BxPQrXo/AjQPYoXI/C9SNAexSuR+H6I0AAAAAAAAAkQA==",
                    "dtype": "f8"
                  },
                  "xaxis": "x",
                  "y": {
                    "bdata": "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",
                    "dtype": "f8"
                  },
                  "yaxis": "y"
                }
              ],
              "layout": {
                "legend": {
                  "tracegroupgap": 0
                },
                "margin": {
                  "t": 60
                },
                "template": {
                  "data": {
                    "bar": [
                      {
                        "error_x": {
                          "color": "#2a3f5f"
                        },
                        "error_y": {
                          "color": "#2a3f5f"
                        },
                        "marker": {
                          "line": {
                            "color": "#E5ECF6",
                            "width": 0.5
                          },
                          "pattern": {
                            "fillmode": "overlay",
                            "size": 10,
                            "solidity": 0.2
                          }
                        },
                        "type": "bar"
                      }
                    ],
                    "barpolar": [
                      {
                        "marker": {
                          "line": {
                            "color": "#E5ECF6",
                            "width": 0.5
                          },
                          "pattern": {
                            "fillmode": "overlay",
                            "size": 10,
                            "solidity": 0.2
                          }
                        },
                        "type": "barpolar"
                      }
                    ],
                    "carpet": [
                      {
                        "aaxis": {
                          "endlinecolor": "#2a3f5f",
                          "gridcolor": "white",
                          "linecolor": "white",
                          "minorgridcolor": "white",
                          "startlinecolor": "#2a3f5f"
                        },
                        "baxis": {
                          "endlinecolor": "#2a3f5f",
                          "gridcolor": "white",
                          "linecolor": "white",
                          "minorgridcolor": "white",
                          "startlinecolor": "#2a3f5f"
                        },
                        "type": "carpet"
                      }
                    ],
                    "choropleth": [
                      {
                        "colorbar": {
                          "outlinewidth": 0,
                          "ticks": ""
                        },
                        "type": "choropleth"
                      }
                    ],
                    "contour": [
                      {
                        "colorbar": {
                          "outlinewidth": 0,
                          "ticks": ""
                        },
                        "colorscale": [
                          [
                            0,
                            "#0d0887"
                          ],
                          [
                            0.1111111111111111,
                            "#46039f"
                          ],
                          [
                            0.2222222222222222,
                            "#7201a8"
                          ],
                          [
                            0.3333333333333333,
                            "#9c179e"
                          ],
                          [
                            0.4444444444444444,
                            "#bd3786"
                          ],
                          [
                            0.5555555555555556,
                            "#d8576b"
                          ],
                          [
                            0.6666666666666666,
                            "#ed7953"
                          ],
                          [
                            0.7777777777777778,
                            "#fb9f3a"
                          ],
                          [
                            0.8888888888888888,
                            "#fdca26"
                          ],
                          [
                            1,
                            "#f0f921"
                          ]
                        ],
                        "type": "contour"
                      }
                    ],
                    "contourcarpet": [
                      {
                        "colorbar": {
                          "outlinewidth": 0,
                          "ticks": ""
                        },
                        "type": "contourcarpet"
                      }
                    ],
                    "heatmap": [
                      {
                        "colorbar": {
                          "outlinewidth": 0,
                          "ticks": ""
                        },
                        "colorscale": [
                          [
                            0,
                            "#0d0887"
                          ],
                          [
                            0.1111111111111111,
                            "#46039f"
                          ],
                          [
                            0.2222222222222222,
                            "#7201a8"
                          ],
                          [
                            0.3333333333333333,
                            "#9c179e"
                          ],
                          [
                            0.4444444444444444,
                            "#bd3786"
                          ],
                          [
                            0.5555555555555556,
                            "#d8576b"
                          ],
                          [
                            0.6666666666666666,
                            "#ed7953"
                          ],
                          [
                            0.7777777777777778,
                            "#fb9f3a"
                          ],
                          [
                            0.8888888888888888,
                            "#fdca26"
                          ],
                          [
                            1,
                            "#f0f921"
                          ]
                        ],
                        "type": "heatmap"
                      }
                    ],
                    "histogram": [
                      {
                        "marker": {
                          "pattern": {
                            "fillmode": "overlay",
                            "size": 10,
                            "solidity": 0.2
                          }
                        },
                        "type": "histogram"
                      }
                    ],
                    "histogram2d": [
                      {
                        "colorbar": {
                          "outlinewidth": 0,
                          "ticks": ""
                        },
                        "colorscale": [
                          [
                            0,
                            "#0d0887"
                          ],
                          [
                            0.1111111111111111,
                            "#46039f"
                          ],
                          [
                            0.2222222222222222,
                            "#7201a8"
                          ],
                          [
                            0.3333333333333333,
                            "#9c179e"
                          ],
                          [
                            0.4444444444444444,
                            "#bd3786"
                          ],
                          [
                            0.5555555555555556,
                            "#d8576b"
                          ],
                          [
                            0.6666666666666666,
                            "#ed7953"
                          ],
                          [
                            0.7777777777777778,
                            "#fb9f3a"
                          ],
                          [
                            0.8888888888888888,
                            "#fdca26"
                          ],
                          [
                            1,
                            "#f0f921"
                          ]
                        ],
                        "type": "histogram2d"
                      }
                    ],
                    "histogram2dcontour": [
                      {
                        "colorbar": {
                          "outlinewidth": 0,
                          "ticks": ""
                        },
                        "colorscale": [
                          [
                            0,
                            "#0d0887"
                          ],
                          [
                            0.1111111111111111,
                            "#46039f"
                          ],
                          [
                            0.2222222222222222,
                            "#7201a8"
                          ],
                          [
                            0.3333333333333333,
                            "#9c179e"
                          ],
                          [
                            0.4444444444444444,
                            "#bd3786"
                          ],
                          [
                            0.5555555555555556,
                            "#d8576b"
                          ],
                          [
                            0.6666666666666666,
                            "#ed7953"
                          ],
                          [
                            0.7777777777777778,
                            "#fb9f3a"
                          ],
                          [
                            0.8888888888888888,
                            "#fdca26"
                          ],
                          [
                            1,
                            "#f0f921"
                          ]
                        ],
                        "type": "histogram2dcontour"
                      }
                    ],
                    "mesh3d": [
                      {
                        "colorbar": {
                          "outlinewidth": 0,
                          "ticks": ""
                        },
                        "type": "mesh3d"
                      }
                    ],
                    "parcoords": [
                      {
                        "line": {
                          "colorbar": {
                            "outlinewidth": 0,
                            "ticks": ""
                          }
                        },
                        "type": "parcoords"
                      }
                    ],
                    "pie": [
                      {
                        "automargin": true,
                        "type": "pie"
                      }
                    ],
                    "scatter": [
                      {
                        "fillpattern": {
                          "fillmode": "overlay",
                          "size": 10,
                          "solidity": 0.2
                        },
                        "type": "scatter"
                      }
                    ],
                    "scatter3d": [
                      {
                        "line": {
                          "colorbar": {
                            "outlinewidth": 0,
                            "ticks": ""
                          }
                        },
                        "marker": {
                          "colorbar": {
                            "outlinewidth": 0,
                            "ticks": ""
                          }
                        },
                        "type": "scatter3d"
                      }
                    ],
                    "scattercarpet": [
                      {
                        "marker": {
                          "colorbar": {
                            "outlinewidth": 0,
                            "ticks": ""
                          }
                        },
                        "type": "scattercarpet"
                      }
                    ],
                    "scattergeo": [
                      {
                        "marker": {
                          "colorbar": {
                            "outlinewidth": 0,
                            "ticks": ""
                          }
                        },
                        "type": "scattergeo"
                      }
                    ],
                    "scattergl": [
                      {
                        "marker": {
                          "colorbar": {
                            "outlinewidth": 0,
                            "ticks": ""
                          }
                        },
                        "type": "scattergl"
                      }
                    ],
                    "scattermap": [
                      {
                        "marker": {
                          "colorbar": {
                            "outlinewidth": 0,
                            "ticks": ""
                          }
                        },
                        "type": "scattermap"
                      }
                    ],
                    "scattermapbox": [
                      {
                        "marker": {
                          "colorbar": {
                            "outlinewidth": 0,
                            "ticks": ""
                          }
                        },
                        "type": "scattermapbox"
                      }
                    ],
                    "scatterpolar": [
                      {
                        "marker": {
                          "colorbar": {
                            "outlinewidth": 0,
                            "ticks": ""
                          }
                        },
                        "type": "scatterpolar"
                      }
                    ],
                    "scatterpolargl": [
                      {
                        "marker": {
                          "colorbar": {
                            "outlinewidth": 0,
                            "ticks": ""
                          }
                        },
                        "type": "scatterpolargl"
                      }
                    ],
                    "scatterternary": [
                      {
                        "marker": {
                          "colorbar": {
                            "outlinewidth": 0,
                            "ticks": ""
                          }
                        },
                        "type": "scatterternary"
                      }
                    ],
                    "surface": [
                      {
                        "colorbar": {
                          "outlinewidth": 0,
                          "ticks": ""
                        },
                        "colorscale": [
                          [
                            0,
                            "#0d0887"
                          ],
                          [
                            0.1111111111111111,
                            "#46039f"
                          ],
                          [
                            0.2222222222222222,
                            "#7201a8"
                          ],
                          [
                            0.3333333333333333,
                            "#9c179e"
                          ],
                          [
                            0.4444444444444444,
                            "#bd3786"
                          ],
                          [
                            0.5555555555555556,
                            "#d8576b"
                          ],
                          [
                            0.6666666666666666,
                            "#ed7953"
                          ],
                          [
                            0.7777777777777778,
                            "#fb9f3a"
                          ],
                          [
                            0.8888888888888888,
                            "#fdca26"
                          ],
                          [
                            1,
                            "#f0f921"
                          ]
                        ],
                        "type": "surface"
                      }
                    ],
                    "table": [
                      {
                        "cells": {
                          "fill": {
                            "color": "#EBF0F8"
                          },
                          "line": {
                            "color": "white"
                          }
                        },
                        "header": {
                          "fill": {
                            "color": "#C8D4E3"
                          },
                          "line": {
                            "color": "white"
                          }
                        },
                        "type": "table"
                      }
                    ]
                  },
                  "layout": {
                    "annotationdefaults": {
                      "arrowcolor": "#2a3f5f",
                      "arrowhead": 0,
                      "arrowwidth": 1
                    },
                    "autotypenumbers": "strict",
                    "coloraxis": {
                      "colorbar": {
                        "outlinewidth": 0,
                        "ticks": ""
                      }
                    },
                    "colorscale": {
                      "diverging": [
                        [
                          0,
                          "#8e0152"
                        ],
                        [
                          0.1,
                          "#c51b7d"
                        ],
                        [
                          0.2,
                          "#de77ae"
                        ],
                        [
                          0.3,
                          "#f1b6da"
                        ],
                        [
                          0.4,
                          "#fde0ef"
                        ],
                        [
                          0.5,
                          "#f7f7f7"
                        ],
                        [
                          0.6,
                          "#e6f5d0"
                        ],
                        [
                          0.7,
                          "#b8e186"
                        ],
                        [
                          0.8,
                          "#7fbc41"
                        ],
                        [
                          0.9,
                          "#4d9221"
                        ],
                        [
                          1,
                          "#276419"
                        ]
                      ],
                      "sequential": [
                        [
                          0,
                          "#0d0887"
                        ],
                        [
                          0.1111111111111111,
                          "#46039f"
                        ],
                        [
                          0.2222222222222222,
                          "#7201a8"
                        ],
                        [
                          0.3333333333333333,
                          "#9c179e"
                        ],
                        [
                          0.4444444444444444,
                          "#bd3786"
                        ],
                        [
                          0.5555555555555556,
                          "#d8576b"
                        ],
                        [
                          0.6666666666666666,
                          "#ed7953"
                        ],
                        [
                          0.7777777777777778,
                          "#fb9f3a"
                        ],
                        [
                          0.8888888888888888,
                          "#fdca26"
                        ],
                        [
                          1,
                          "#f0f921"
                        ]
                      ],
                      "sequentialminus": [
                        [
                          0,
                          "#0d0887"
                        ],
                        [
                          0.1111111111111111,
                          "#46039f"
                        ],
                        [
                          0.2222222222222222,
                          "#7201a8"
                        ],
                        [
                          0.3333333333333333,
                          "#9c179e"
                        ],
                        [
                          0.4444444444444444,
                          "#bd3786"
                        ],
                        [
                          0.5555555555555556,
                          "#d8576b"
                        ],
                        [
                          0.6666666666666666,
                          "#ed7953"
                        ],
                        [
                          0.7777777777777778,
                          "#fb9f3a"
                        ],
                        [
                          0.8888888888888888,
                          "#fdca26"
                        ],
                        [
                          1,
                          "#f0f921"
                        ]
                      ]
                    },
                    "colorway": [
                      "#636efa",
                      "#EF553B",
                      "#00cc96",
                      "#ab63fa",
                      "#FFA15A",
                      "#19d3f3",
                      "#FF6692",
                      "#B6E880",
                      "#FF97FF",
                      "#FECB52"
                    ],
                    "font": {
                      "color": "#2a3f5f"
                    },
                    "geo": {
                      "bgcolor": "white",
                      "lakecolor": "white",
                      "landcolor": "#E5ECF6",
                      "showlakes": true,
                      "showland": true,
                      "subunitcolor": "white"
                    },
                    "hoverlabel": {
                      "align": "left"
                    },
                    "hovermode": "closest",
                    "mapbox": {
                      "style": "light"
                    },
                    "paper_bgcolor": "white",
                    "plot_bgcolor": "#E5ECF6",
                    "polar": {
                      "angularaxis": {
                        "gridcolor": "white",
                        "linecolor": "white",
                        "ticks": ""
                      },
                      "bgcolor": "#E5ECF6",
                      "radialaxis": {
                        "gridcolor": "white",
                        "linecolor": "white",
                        "ticks": ""
                      }
                    },
                    "scene": {
                      "xaxis": {
                        "backgroundcolor": "#E5ECF6",
                        "gridcolor": "white",
                        "gridwidth": 2,
                        "linecolor": "white",
                        "showbackground": true,
                        "ticks": "",
                        "zerolinecolor": "white"
                      },
                      "yaxis": {
                        "backgroundcolor": "#E5ECF6",
                        "gridcolor": "white",
                        "gridwidth": 2,
                        "linecolor": "white",
                        "showbackground": true,
                        "ticks": "",
                        "zerolinecolor": "white"
                      },
                      "zaxis": {
                        "backgroundcolor": "#E5ECF6",
                        "gridcolor": "white",
                        "gridwidth": 2,
                        "linecolor": "white",
                        "showbackground": true,
                        "ticks": "",
                        "zerolinecolor": "white"
                      }
                    },
                    "shapedefaults": {
                      "line": {
                        "color": "#2a3f5f"
                      }
                    },
                    "ternary": {
                      "aaxis": {
                        "gridcolor": "white",
                        "linecolor": "white",
                        "ticks": ""
                      },
                      "baxis": {
                        "gridcolor": "white",
                        "linecolor": "white",
                        "ticks": ""
                      },
                      "bgcolor": "#E5ECF6",
                      "caxis": {
                        "gridcolor": "white",
                        "linecolor": "white",
                        "ticks": ""
                      }
                    },
                    "title": {
                      "x": 0.05
                    },
                    "xaxis": {
                      "automargin": true,
                      "gridcolor": "white",
                      "linecolor": "white",
                      "ticks": "",
                      "title": {
                        "standoff": 15
                      },
                      "zerolinecolor": "white",
                      "zerolinewidth": 2
                    },
                    "yaxis": {
                      "automargin": true,
                      "gridcolor": "white",
                      "linecolor": "white",
                      "ticks": "",
                      "title": {
                        "standoff": 15
                      },
                      "zerolinecolor": "white",
                      "zerolinewidth": 2
                    }
                  }
                },
                "xaxis": {
                  "anchor": "y",
                  "domain": [
                    0,
                    1
                  ],
                  "title": {
                    "text": "Time"
                  }
                },
                "yaxis": {
                  "anchor": "x",
                  "domain": [
                    0,
                    1
                  ],
                  "title": {
                    "text": "X position [m]"
                  }
                }
              }
            }
          },
          "metadata": {},
          "output_type": "display_data"
        },
        {
          "data": {
            "application/vnd.plotly.v1+json": {
              "config": {
                "plotlyServerURL": "https://plot.ly"
              },
              "data": [
                {
                  "hovertemplate": "Time=%{x}<br>Error position [m]=%{y}<extra></extra>",
                  "legendgroup": "",
                  "line": {
                    "color": "red",
                    "dash": "solid",
                    "width": 4
                  },
                  "marker": {
                    "symbol": "circle"
                  },
                  "mode": "lines",
                  "name": "",
                  "showlegend": false,
                  "type": "scattergl",
                  "x": {
                    "bdata": "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",
                    "dtype": "f8"
                  },
                  "xaxis": "x",
                  "y": {
                    "bdata": "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",
                    "dtype": "f8"
                  },
                  "yaxis": "y"
                }
              ],
              "layout": {
                "legend": {
                  "tracegroupgap": 0
                },
                "margin": {
                  "t": 60
                },
                "template": {
                  "data": {
                    "bar": [
                      {
                        "error_x": {
                          "color": "#2a3f5f"
                        },
                        "error_y": {
                          "color": "#2a3f5f"
                        },
                        "marker": {
                          "line": {
                            "color": "#E5ECF6",
                            "width": 0.5
                          },
                          "pattern": {
                            "fillmode": "overlay",
                            "size": 10,
                            "solidity": 0.2
                          }
                        },
                        "type": "bar"
                      }
                    ],
                    "barpolar": [
                      {
                        "marker": {
                          "line": {
                            "color": "#E5ECF6",
                            "width": 0.5
                          },
                          "pattern": {
                            "fillmode": "overlay",
                            "size": 10,
                            "solidity": 0.2
                          }
                        },
                        "type": "barpolar"
                      }
                    ],
                    "carpet": [
                      {
                        "aaxis": {
                          "endlinecolor": "#2a3f5f",
                          "gridcolor": "white",
                          "linecolor": "white",
                          "minorgridcolor": "white",
                          "startlinecolor": "#2a3f5f"
                        },
                        "baxis": {
                          "endlinecolor": "#2a3f5f",
                          "gridcolor": "white",
                          "linecolor": "white",
                          "minorgridcolor": "white",
                          "startlinecolor": "#2a3f5f"
                        },
                        "type": "carpet"
                      }
                    ],
                    "choropleth": [
                      {
                        "colorbar": {
                          "outlinewidth": 0,
                          "ticks": ""
                        },
                        "type": "choropleth"
                      }
                    ],
                    "contour": [
                      {
                        "colorbar": {
                          "outlinewidth": 0,
                          "ticks": ""
                        },
                        "colorscale": [
                          [
                            0,
                            "#0d0887"
                          ],
                          [
                            0.1111111111111111,
                            "#46039f"
                          ],
                          [
                            0.2222222222222222,
                            "#7201a8"
                          ],
                          [
                            0.3333333333333333,
                            "#9c179e"
                          ],
                          [
                            0.4444444444444444,
                            "#bd3786"
                          ],
                          [
                            0.5555555555555556,
                            "#d8576b"
                          ],
                          [
                            0.6666666666666666,
                            "#ed7953"
                          ],
                          [
                            0.7777777777777778,
                            "#fb9f3a"
                          ],
                          [
                            0.8888888888888888,
                            "#fdca26"
                          ],
                          [
                            1,
                            "#f0f921"
                          ]
                        ],
                        "type": "contour"
                      }
                    ],
                    "contourcarpet": [
                      {
                        "colorbar": {
                          "outlinewidth": 0,
                          "ticks": ""
                        },
                        "type": "contourcarpet"
                      }
                    ],
                    "heatmap": [
                      {
                        "colorbar": {
                          "outlinewidth": 0,
                          "ticks": ""
                        },
                        "colorscale": [
                          [
                            0,
                            "#0d0887"
                          ],
                          [
                            0.1111111111111111,
                            "#46039f"
                          ],
                          [
                            0.2222222222222222,
                            "#7201a8"
                          ],
                          [
                            0.3333333333333333,
                            "#9c179e"
                          ],
                          [
                            0.4444444444444444,
                            "#bd3786"
                          ],
                          [
                            0.5555555555555556,
                            "#d8576b"
                          ],
                          [
                            0.6666666666666666,
                            "#ed7953"
                          ],
                          [
                            0.7777777777777778,
                            "#fb9f3a"
                          ],
                          [
                            0.8888888888888888,
                            "#fdca26"
                          ],
                          [
                            1,
                            "#f0f921"
                          ]
                        ],
                        "type": "heatmap"
                      }
                    ],
                    "histogram": [
                      {
                        "marker": {
                          "pattern": {
                            "fillmode": "overlay",
                            "size": 10,
                            "solidity": 0.2
                          }
                        },
                        "type": "histogram"
                      }
                    ],
                    "histogram2d": [
                      {
                        "colorbar": {
                          "outlinewidth": 0,
                          "ticks": ""
                        },
                        "colorscale": [
                          [
                            0,
                            "#0d0887"
                          ],
                          [
                            0.1111111111111111,
                            "#46039f"
                          ],
                          [
                            0.2222222222222222,
                            "#7201a8"
                          ],
                          [
                            0.3333333333333333,
                            "#9c179e"
                          ],
                          [
                            0.4444444444444444,
                            "#bd3786"
                          ],
                          [
                            0.5555555555555556,
                            "#d8576b"
                          ],
                          [
                            0.6666666666666666,
                            "#ed7953"
                          ],
                          [
                            0.7777777777777778,
                            "#fb9f3a"
                          ],
                          [
                            0.8888888888888888,
                            "#fdca26"
                          ],
                          [
                            1,
                            "#f0f921"
                          ]
                        ],
                        "type": "histogram2d"
                      }
                    ],
                    "histogram2dcontour": [
                      {
                        "colorbar": {
                          "outlinewidth": 0,
                          "ticks": ""
                        },
                        "colorscale": [
                          [
                            0,
                            "#0d0887"
                          ],
                          [
                            0.1111111111111111,
                            "#46039f"
                          ],
                          [
                            0.2222222222222222,
                            "#7201a8"
                          ],
                          [
                            0.3333333333333333,
                            "#9c179e"
                          ],
                          [
                            0.4444444444444444,
                            "#bd3786"
                          ],
                          [
                            0.5555555555555556,
                            "#d8576b"
                          ],
                          [
                            0.6666666666666666,
                            "#ed7953"
                          ],
                          [
                            0.7777777777777778,
                            "#fb9f3a"
                          ],
                          [
                            0.8888888888888888,
                            "#fdca26"
                          ],
                          [
                            1,
                            "#f0f921"
                          ]
                        ],
                        "type": "histogram2dcontour"
                      }
                    ],
                    "mesh3d": [
                      {
                        "colorbar": {
                          "outlinewidth": 0,
                          "ticks": ""
                        },
                        "type": "mesh3d"
                      }
                    ],
                    "parcoords": [
                      {
                        "line": {
                          "colorbar": {
                            "outlinewidth": 0,
                            "ticks": ""
                          }
                        },
                        "type": "parcoords"
                      }
                    ],
                    "pie": [
                      {
                        "automargin": true,
                        "type": "pie"
                      }
                    ],
                    "scatter": [
                      {
                        "fillpattern": {
                          "fillmode": "overlay",
                          "size": 10,
                          "solidity": 0.2
                        },
                        "type": "scatter"
                      }
                    ],
                    "scatter3d": [
                      {
                        "line": {
                          "colorbar": {
                            "outlinewidth": 0,
                            "ticks": ""
                          }
                        },
                        "marker": {
                          "colorbar": {
                            "outlinewidth": 0,
                            "ticks": ""
                          }
                        },
                        "type": "scatter3d"
                      }
                    ],
                    "scattercarpet": [
                      {
                        "marker": {
                          "colorbar": {
                            "outlinewidth": 0,
                            "ticks": ""
                          }
                        },
                        "type": "scattercarpet"
                      }
                    ],
                    "scattergeo": [
                      {
                        "marker": {
                          "colorbar": {
                            "outlinewidth": 0,
                            "ticks": ""
                          }
                        },
                        "type": "scattergeo"
                      }
                    ],
                    "scattergl": [
                      {
                        "marker": {
                          "colorbar": {
                            "outlinewidth": 0,
                            "ticks": ""
                          }
                        },
                        "type": "scattergl"
                      }
                    ],
                    "scattermap": [
                      {
                        "marker": {
                          "colorbar": {
                            "outlinewidth": 0,
                            "ticks": ""
                          }
                        },
                        "type": "scattermap"
                      }
                    ],
                    "scattermapbox": [
                      {
                        "marker": {
                          "colorbar": {
                            "outlinewidth": 0,
                            "ticks": ""
                          }
                        },
                        "type": "scattermapbox"
                      }
                    ],
                    "scatterpolar": [
                      {
                        "marker": {
                          "colorbar": {
                            "outlinewidth": 0,
                            "ticks": ""
                          }
                        },
                        "type": "scatterpolar"
                      }
                    ],
                    "scatterpolargl": [
                      {
                        "marker": {
                          "colorbar": {
                            "outlinewidth": 0,
                            "ticks": ""
                          }
                        },
                        "type": "scatterpolargl"
                      }
                    ],
                    "scatterternary": [
                      {
                        "marker": {
                          "colorbar": {
                            "outlinewidth": 0,
                            "ticks": ""
                          }
                        },
                        "type": "scatterternary"
                      }
                    ],
                    "surface": [
                      {
                        "colorbar": {
                          "outlinewidth": 0,
                          "ticks": ""
                        },
                        "colorscale": [
                          [
                            0,
                            "#0d0887"
                          ],
                          [
                            0.1111111111111111,
                            "#46039f"
                          ],
                          [
                            0.2222222222222222,
                            "#7201a8"
                          ],
                          [
                            0.3333333333333333,
                            "#9c179e"
                          ],
                          [
                            0.4444444444444444,
                            "#bd3786"
                          ],
                          [
                            0.5555555555555556,
                            "#d8576b"
                          ],
                          [
                            0.6666666666666666,
                            "#ed7953"
                          ],
                          [
                            0.7777777777777778,
                            "#fb9f3a"
                          ],
                          [
                            0.8888888888888888,
                            "#fdca26"
                          ],
                          [
                            1,
                            "#f0f921"
                          ]
                        ],
                        "type": "surface"
                      }
                    ],
                    "table": [
                      {
                        "cells": {
                          "fill": {
                            "color": "#EBF0F8"
                          },
                          "line": {
                            "color": "white"
                          }
                        },
                        "header": {
                          "fill": {
                            "color": "#C8D4E3"
                          },
                          "line": {
                            "color": "white"
                          }
                        },
                        "type": "table"
                      }
                    ]
                  },
                  "layout": {
                    "annotationdefaults": {
                      "arrowcolor": "#2a3f5f",
                      "arrowhead": 0,
                      "arrowwidth": 1
                    },
                    "autotypenumbers": "strict",
                    "coloraxis": {
                      "colorbar": {
                        "outlinewidth": 0,
                        "ticks": ""
                      }
                    },
                    "colorscale": {
                      "diverging": [
                        [
                          0,
                          "#8e0152"
                        ],
                        [
                          0.1,
                          "#c51b7d"
                        ],
                        [
                          0.2,
                          "#de77ae"
                        ],
                        [
                          0.3,
                          "#f1b6da"
                        ],
                        [
                          0.4,
                          "#fde0ef"
                        ],
                        [
                          0.5,
                          "#f7f7f7"
                        ],
                        [
                          0.6,
                          "#e6f5d0"
                        ],
                        [
                          0.7,
                          "#b8e186"
                        ],
                        [
                          0.8,
                          "#7fbc41"
                        ],
                        [
                          0.9,
                          "#4d9221"
                        ],
                        [
                          1,
                          "#276419"
                        ]
                      ],
                      "sequential": [
                        [
                          0,
                          "#0d0887"
                        ],
                        [
                          0.1111111111111111,
                          "#46039f"
                        ],
                        [
                          0.2222222222222222,
                          "#7201a8"
                        ],
                        [
                          0.3333333333333333,
                          "#9c179e"
                        ],
                        [
                          0.4444444444444444,
                          "#bd3786"
                        ],
                        [
                          0.5555555555555556,
                          "#d8576b"
                        ],
                        [
                          0.6666666666666666,
                          "#ed7953"
                        ],
                        [
                          0.7777777777777778,
                          "#fb9f3a"
                        ],
                        [
                          0.8888888888888888,
                          "#fdca26"
                        ],
                        [
                          1,
                          "#f0f921"
                        ]
                      ],
                      "sequentialminus": [
                        [
                          0,
                          "#0d0887"
                        ],
                        [
                          0.1111111111111111,
                          "#46039f"
                        ],
                        [
                          0.2222222222222222,
                          "#7201a8"
                        ],
                        [
                          0.3333333333333333,
                          "#9c179e"
                        ],
                        [
                          0.4444444444444444,
                          "#bd3786"
                        ],
                        [
                          0.5555555555555556,
                          "#d8576b"
                        ],
                        [
                          0.6666666666666666,
                          "#ed7953"
                        ],
                        [
                          0.7777777777777778,
                          "#fb9f3a"
                        ],
                        [
                          0.8888888888888888,
                          "#fdca26"
                        ],
                        [
                          1,
                          "#f0f921"
                        ]
                      ]
                    },
                    "colorway": [
                      "#636efa",
                      "#EF553B",
                      "#00cc96",
                      "#ab63fa",
                      "#FFA15A",
                      "#19d3f3",
                      "#FF6692",
                      "#B6E880",
                      "#FF97FF",
                      "#FECB52"
                    ],
                    "font": {
                      "color": "#2a3f5f"
                    },
                    "geo": {
                      "bgcolor": "white",
                      "lakecolor": "white",
                      "landcolor": "#E5ECF6",
                      "showlakes": true,
                      "showland": true,
                      "subunitcolor": "white"
                    },
                    "hoverlabel": {
                      "align": "left"
                    },
                    "hovermode": "closest",
                    "mapbox": {
                      "style": "light"
                    },
                    "paper_bgcolor": "white",
                    "plot_bgcolor": "#E5ECF6",
                    "polar": {
                      "angularaxis": {
                        "gridcolor": "white",
                        "linecolor": "white",
                        "ticks": ""
                      },
                      "bgcolor": "#E5ECF6",
                      "radialaxis": {
                        "gridcolor": "white",
                        "linecolor": "white",
                        "ticks": ""
                      }
                    },
                    "scene": {
                      "xaxis": {
                        "backgroundcolor": "#E5ECF6",
                        "gridcolor": "white",
                        "gridwidth": 2,
                        "linecolor": "white",
                        "showbackground": true,
                        "ticks": "",
                        "zerolinecolor": "white"
                      },
                      "yaxis": {
                        "backgroundcolor": "#E5ECF6",
                        "gridcolor": "white",
                        "gridwidth": 2,
                        "linecolor": "white",
                        "showbackground": true,
                        "ticks": "",
                        "zerolinecolor": "white"
                      },
                      "zaxis": {
                        "backgroundcolor": "#E5ECF6",
                        "gridcolor": "white",
                        "gridwidth": 2,
                        "linecolor": "white",
                        "showbackground": true,
                        "ticks": "",
                        "zerolinecolor": "white"
                      }
                    },
                    "shapedefaults": {
                      "line": {
                        "color": "#2a3f5f"
                      }
                    },
                    "ternary": {
                      "aaxis": {
                        "gridcolor": "white",
                        "linecolor": "white",
                        "ticks": ""
                      },
                      "baxis": {
                        "gridcolor": "white",
                        "linecolor": "white",
                        "ticks": ""
                      },
                      "bgcolor": "#E5ECF6",
                      "caxis": {
                        "gridcolor": "white",
                        "linecolor": "white",
                        "ticks": ""
                      }
                    },
                    "title": {
                      "x": 0.05
                    },
                    "xaxis": {
                      "automargin": true,
                      "gridcolor": "white",
                      "linecolor": "white",
                      "ticks": "",
                      "title": {
                        "standoff": 15
                      },
                      "zerolinecolor": "white",
                      "zerolinewidth": 2
                    },
                    "yaxis": {
                      "automargin": true,
                      "gridcolor": "white",
                      "linecolor": "white",
                      "ticks": "",
                      "title": {
                        "standoff": 15
                      },
                      "zerolinecolor": "white",
                      "zerolinewidth": 2
                    }
                  }
                },
                "xaxis": {
                  "anchor": "y",
                  "domain": [
                    0,
                    1
                  ],
                  "title": {
                    "text": "Time"
                  }
                },
                "yaxis": {
                  "anchor": "x",
                  "domain": [
                    0,
                    1
                  ],
                  "title": {
                    "text": "Error position [m]"
                  }
                }
              }
            }
          },
          "metadata": {},
          "output_type": "display_data"
        },
        {
          "data": {
            "application/vnd.plotly.v1+json": {
              "config": {
                "plotlyServerURL": "https://plot.ly"
              },
              "data": [
                {
                  "hovertemplate": "Time=%{x}<br>Señal de control v [m/s] =%{y}<extra></extra>",
                  "legendgroup": "",
                  "line": {
                    "color": "yellow",
                    "dash": "solid",
                    "width": 4
                  },
                  "marker": {
                    "symbol": "circle"
                  },
                  "mode": "lines",
                  "name": "",
                  "showlegend": false,
                  "type": "scattergl",
                  "x": {
                    "bdata": "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",
                    "dtype": "f8"
                  },
                  "xaxis": "x",
                  "y": {
                    "bdata": "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",
                    "dtype": "f8"
                  },
                  "yaxis": "y"
                }
              ],
              "layout": {
                "legend": {
                  "tracegroupgap": 0
                },
                "margin": {
                  "t": 60
                },
                "template": {
                  "data": {
                    "bar": [
                      {
                        "error_x": {
                          "color": "#2a3f5f"
                        },
                        "error_y": {
                          "color": "#2a3f5f"
                        },
                        "marker": {
                          "line": {
                            "color": "#E5ECF6",
                            "width": 0.5
                          },
                          "pattern": {
                            "fillmode": "overlay",
                            "size": 10,
                            "solidity": 0.2
                          }
                        },
                        "type": "bar"
                      }
                    ],
                    "barpolar": [
                      {
                        "marker": {
                          "line": {
                            "color": "#E5ECF6",
                            "width": 0.5
                          },
                          "pattern": {
                            "fillmode": "overlay",
                            "size": 10,
                            "solidity": 0.2
                          }
                        },
                        "type": "barpolar"
                      }
                    ],
                    "carpet": [
                      {
                        "aaxis": {
                          "endlinecolor": "#2a3f5f",
                          "gridcolor": "white",
                          "linecolor": "white",
                          "minorgridcolor": "white",
                          "startlinecolor": "#2a3f5f"
                        },
                        "baxis": {
                          "endlinecolor": "#2a3f5f",
                          "gridcolor": "white",
                          "linecolor": "white",
                          "minorgridcolor": "white",
                          "startlinecolor": "#2a3f5f"
                        },
                        "type": "carpet"
                      }
                    ],
                    "choropleth": [
                      {
                        "colorbar": {
                          "outlinewidth": 0,
                          "ticks": ""
                        },
                        "type": "choropleth"
                      }
                    ],
                    "contour": [
                      {
                        "colorbar": {
                          "outlinewidth": 0,
                          "ticks": ""
                        },
                        "colorscale": [
                          [
                            0,
                            "#0d0887"
                          ],
                          [
                            0.1111111111111111,
                            "#46039f"
                          ],
                          [
                            0.2222222222222222,
                            "#7201a8"
                          ],
                          [
                            0.3333333333333333,
                            "#9c179e"
                          ],
                          [
                            0.4444444444444444,
                            "#bd3786"
                          ],
                          [
                            0.5555555555555556,
                            "#d8576b"
                          ],
                          [
                            0.6666666666666666,
                            "#ed7953"
                          ],
                          [
                            0.7777777777777778,
                            "#fb9f3a"
                          ],
                          [
                            0.8888888888888888,
                            "#fdca26"
                          ],
                          [
                            1,
                            "#f0f921"
                          ]
                        ],
                        "type": "contour"
                      }
                    ],
                    "contourcarpet": [
                      {
                        "colorbar": {
                          "outlinewidth": 0,
                          "ticks": ""
                        },
                        "type": "contourcarpet"
                      }
                    ],
                    "heatmap": [
                      {
                        "colorbar": {
                          "outlinewidth": 0,
                          "ticks": ""
                        },
                        "colorscale": [
                          [
                            0,
                            "#0d0887"
                          ],
                          [
                            0.1111111111111111,
                            "#46039f"
                          ],
                          [
                            0.2222222222222222,
                            "#7201a8"
                          ],
                          [
                            0.3333333333333333,
                            "#9c179e"
                          ],
                          [
                            0.4444444444444444,
                            "#bd3786"
                          ],
                          [
                            0.5555555555555556,
                            "#d8576b"
                          ],
                          [
                            0.6666666666666666,
                            "#ed7953"
                          ],
                          [
                            0.7777777777777778,
                            "#fb9f3a"
                          ],
                          [
                            0.8888888888888888,
                            "#fdca26"
                          ],
                          [
                            1,
                            "#f0f921"
                          ]
                        ],
                        "type": "heatmap"
                      }
                    ],
                    "histogram": [
                      {
                        "marker": {
                          "pattern": {
                            "fillmode": "overlay",
                            "size": 10,
                            "solidity": 0.2
                          }
                        },
                        "type": "histogram"
                      }
                    ],
                    "histogram2d": [
                      {
                        "colorbar": {
                          "outlinewidth": 0,
                          "ticks": ""
                        },
                        "colorscale": [
                          [
                            0,
                            "#0d0887"
                          ],
                          [
                            0.1111111111111111,
                            "#46039f"
                          ],
                          [
                            0.2222222222222222,
                            "#7201a8"
                          ],
                          [
                            0.3333333333333333,
                            "#9c179e"
                          ],
                          [
                            0.4444444444444444,
                            "#bd3786"
                          ],
                          [
                            0.5555555555555556,
                            "#d8576b"
                          ],
                          [
                            0.6666666666666666,
                            "#ed7953"
                          ],
                          [
                            0.7777777777777778,
                            "#fb9f3a"
                          ],
                          [
                            0.8888888888888888,
                            "#fdca26"
                          ],
                          [
                            1,
                            "#f0f921"
                          ]
                        ],
                        "type": "histogram2d"
                      }
                    ],
                    "histogram2dcontour": [
                      {
                        "colorbar": {
                          "outlinewidth": 0,
                          "ticks": ""
                        },
                        "colorscale": [
                          [
                            0,
                            "#0d0887"
                          ],
                          [
                            0.1111111111111111,
                            "#46039f"
                          ],
                          [
                            0.2222222222222222,
                            "#7201a8"
                          ],
                          [
                            0.3333333333333333,
                            "#9c179e"
                          ],
                          [
                            0.4444444444444444,
                            "#bd3786"
                          ],
                          [
                            0.5555555555555556,
                            "#d8576b"
                          ],
                          [
                            0.6666666666666666,
                            "#ed7953"
                          ],
                          [
                            0.7777777777777778,
                            "#fb9f3a"
                          ],
                          [
                            0.8888888888888888,
                            "#fdca26"
                          ],
                          [
                            1,
                            "#f0f921"
                          ]
                        ],
                        "type": "histogram2dcontour"
                      }
                    ],
                    "mesh3d": [
                      {
                        "colorbar": {
                          "outlinewidth": 0,
                          "ticks": ""
                        },
                        "type": "mesh3d"
                      }
                    ],
                    "parcoords": [
                      {
                        "line": {
                          "colorbar": {
                            "outlinewidth": 0,
                            "ticks": ""
                          }
                        },
                        "type": "parcoords"
                      }
                    ],
                    "pie": [
                      {
                        "automargin": true,
                        "type": "pie"
                      }
                    ],
                    "scatter": [
                      {
                        "fillpattern": {
                          "fillmode": "overlay",
                          "size": 10,
                          "solidity": 0.2
                        },
                        "type": "scatter"
                      }
                    ],
                    "scatter3d": [
                      {
                        "line": {
                          "colorbar": {
                            "outlinewidth": 0,
                            "ticks": ""
                          }
                        },
                        "marker": {
                          "colorbar": {
                            "outlinewidth": 0,
                            "ticks": ""
                          }
                        },
                        "type": "scatter3d"
                      }
                    ],
                    "scattercarpet": [
                      {
                        "marker": {
                          "colorbar": {
                            "outlinewidth": 0,
                            "ticks": ""
                          }
                        },
                        "type": "scattercarpet"
                      }
                    ],
                    "scattergeo": [
                      {
                        "marker": {
                          "colorbar": {
                            "outlinewidth": 0,
                            "ticks": ""
                          }
                        },
                        "type": "scattergeo"
                      }
                    ],
                    "scattergl": [
                      {
                        "marker": {
                          "colorbar": {
                            "outlinewidth": 0,
                            "ticks": ""
                          }
                        },
                        "type": "scattergl"
                      }
                    ],
                    "scattermap": [
                      {
                        "marker": {
                          "colorbar": {
                            "outlinewidth": 0,
                            "ticks": ""
                          }
                        },
                        "type": "scattermap"
                      }
                    ],
                    "scattermapbox": [
                      {
                        "marker": {
                          "colorbar": {
                            "outlinewidth": 0,
                            "ticks": ""
                          }
                        },
                        "type": "scattermapbox"
                      }
                    ],
                    "scatterpolar": [
                      {
                        "marker": {
                          "colorbar": {
                            "outlinewidth": 0,
                            "ticks": ""
                          }
                        },
                        "type": "scatterpolar"
                      }
                    ],
                    "scatterpolargl": [
                      {
                        "marker": {
                          "colorbar": {
                            "outlinewidth": 0,
                            "ticks": ""
                          }
                        },
                        "type": "scatterpolargl"
                      }
                    ],
                    "scatterternary": [
                      {
                        "marker": {
                          "colorbar": {
                            "outlinewidth": 0,
                            "ticks": ""
                          }
                        },
                        "type": "scatterternary"
                      }
                    ],
                    "surface": [
                      {
                        "colorbar": {
                          "outlinewidth": 0,
                          "ticks": ""
                        },
                        "colorscale": [
                          [
                            0,
                            "#0d0887"
                          ],
                          [
                            0.1111111111111111,
                            "#46039f"
                          ],
                          [
                            0.2222222222222222,
                            "#7201a8"
                          ],
                          [
                            0.3333333333333333,
                            "#9c179e"
                          ],
                          [
                            0.4444444444444444,
                            "#bd3786"
                          ],
                          [
                            0.5555555555555556,
                            "#d8576b"
                          ],
                          [
                            0.6666666666666666,
                            "#ed7953"
                          ],
                          [
                            0.7777777777777778,
                            "#fb9f3a"
                          ],
                          [
                            0.8888888888888888,
                            "#fdca26"
                          ],
                          [
                            1,
                            "#f0f921"
                          ]
                        ],
                        "type": "surface"
                      }
                    ],
                    "table": [
                      {
                        "cells": {
                          "fill": {
                            "color": "#EBF0F8"
                          },
                          "line": {
                            "color": "white"
                          }
                        },
                        "header": {
                          "fill": {
                            "color": "#C8D4E3"
                          },
                          "line": {
                            "color": "white"
                          }
                        },
                        "type": "table"
                      }
                    ]
                  },
                  "layout": {
                    "annotationdefaults": {
                      "arrowcolor": "#2a3f5f",
                      "arrowhead": 0,
                      "arrowwidth": 1
                    },
                    "autotypenumbers": "strict",
                    "coloraxis": {
                      "colorbar": {
                        "outlinewidth": 0,
                        "ticks": ""
                      }
                    },
                    "colorscale": {
                      "diverging": [
                        [
                          0,
                          "#8e0152"
                        ],
                        [
                          0.1,
                          "#c51b7d"
                        ],
                        [
                          0.2,
                          "#de77ae"
                        ],
                        [
                          0.3,
                          "#f1b6da"
                        ],
                        [
                          0.4,
                          "#fde0ef"
                        ],
                        [
                          0.5,
                          "#f7f7f7"
                        ],
                        [
                          0.6,
                          "#e6f5d0"
                        ],
                        [
                          0.7,
                          "#b8e186"
                        ],
                        [
                          0.8,
                          "#7fbc41"
                        ],
                        [
                          0.9,
                          "#4d9221"
                        ],
                        [
                          1,
                          "#276419"
                        ]
                      ],
                      "sequential": [
                        [
                          0,
                          "#0d0887"
                        ],
                        [
                          0.1111111111111111,
                          "#46039f"
                        ],
                        [
                          0.2222222222222222,
                          "#7201a8"
                        ],
                        [
                          0.3333333333333333,
                          "#9c179e"
                        ],
                        [
                          0.4444444444444444,
                          "#bd3786"
                        ],
                        [
                          0.5555555555555556,
                          "#d8576b"
                        ],
                        [
                          0.6666666666666666,
                          "#ed7953"
                        ],
                        [
                          0.7777777777777778,
                          "#fb9f3a"
                        ],
                        [
                          0.8888888888888888,
                          "#fdca26"
                        ],
                        [
                          1,
                          "#f0f921"
                        ]
                      ],
                      "sequentialminus": [
                        [
                          0,
                          "#0d0887"
                        ],
                        [
                          0.1111111111111111,
                          "#46039f"
                        ],
                        [
                          0.2222222222222222,
                          "#7201a8"
                        ],
                        [
                          0.3333333333333333,
                          "#9c179e"
                        ],
                        [
                          0.4444444444444444,
                          "#bd3786"
                        ],
                        [
                          0.5555555555555556,
                          "#d8576b"
                        ],
                        [
                          0.6666666666666666,
                          "#ed7953"
                        ],
                        [
                          0.7777777777777778,
                          "#fb9f3a"
                        ],
                        [
                          0.8888888888888888,
                          "#fdca26"
                        ],
                        [
                          1,
                          "#f0f921"
                        ]
                      ]
                    },
                    "colorway": [
                      "#636efa",
                      "#EF553B",
                      "#00cc96",
                      "#ab63fa",
                      "#FFA15A",
                      "#19d3f3",
                      "#FF6692",
                      "#B6E880",
                      "#FF97FF",
                      "#FECB52"
                    ],
                    "font": {
                      "color": "#2a3f5f"
                    },
                    "geo": {
                      "bgcolor": "white",
                      "lakecolor": "white",
                      "landcolor": "#E5ECF6",
                      "showlakes": true,
                      "showland": true,
                      "subunitcolor": "white"
                    },
                    "hoverlabel": {
                      "align": "left"
                    },
                    "hovermode": "closest",
                    "mapbox": {
                      "style": "light"
                    },
                    "paper_bgcolor": "white",
                    "plot_bgcolor": "#E5ECF6",
                    "polar": {
                      "angularaxis": {
                        "gridcolor": "white",
                        "linecolor": "white",
                        "ticks": ""
                      },
                      "bgcolor": "#E5ECF6",
                      "radialaxis": {
                        "gridcolor": "white",
                        "linecolor": "white",
                        "ticks": ""
                      }
                    },
                    "scene": {
                      "xaxis": {
                        "backgroundcolor": "#E5ECF6",
                        "gridcolor": "white",
                        "gridwidth": 2,
                        "linecolor": "white",
                        "showbackground": true,
                        "ticks": "",
                        "zerolinecolor": "white"
                      },
                      "yaxis": {
                        "backgroundcolor": "#E5ECF6",
                        "gridcolor": "white",
                        "gridwidth": 2,
                        "linecolor": "white",
                        "showbackground": true,
                        "ticks": "",
                        "zerolinecolor": "white"
                      },
                      "zaxis": {
                        "backgroundcolor": "#E5ECF6",
                        "gridcolor": "white",
                        "gridwidth": 2,
                        "linecolor": "white",
                        "showbackground": true,
                        "ticks": "",
                        "zerolinecolor": "white"
                      }
                    },
                    "shapedefaults": {
                      "line": {
                        "color": "#2a3f5f"
                      }
                    },
                    "ternary": {
                      "aaxis": {
                        "gridcolor": "white",
                        "linecolor": "white",
                        "ticks": ""
                      },
                      "baxis": {
                        "gridcolor": "white",
                        "linecolor": "white",
                        "ticks": ""
                      },
                      "bgcolor": "#E5ECF6",
                      "caxis": {
                        "gridcolor": "white",
                        "linecolor": "white",
                        "ticks": ""
                      }
                    },
                    "title": {
                      "x": 0.05
                    },
                    "xaxis": {
                      "automargin": true,
                      "gridcolor": "white",
                      "linecolor": "white",
                      "ticks": "",
                      "title": {
                        "standoff": 15
                      },
                      "zerolinecolor": "white",
                      "zerolinewidth": 2
                    },
                    "yaxis": {
                      "automargin": true,
                      "gridcolor": "white",
                      "linecolor": "white",
                      "ticks": "",
                      "title": {
                        "standoff": 15
                      },
                      "zerolinecolor": "white",
                      "zerolinewidth": 2
                    }
                  }
                },
                "xaxis": {
                  "anchor": "y",
                  "domain": [
                    0,
                    1
                  ],
                  "title": {
                    "text": "Time"
                  }
                },
                "yaxis": {
                  "anchor": "x",
                  "domain": [
                    0,
                    1
                  ],
                  "title": {
                    "text": "Señal de control v [m/s] "
                  }
                }
              }
            }
          },
          "metadata": {},
          "output_type": "display_data"
        }
      ],
      "source": [
        "df = pd.DataFrame({'t': t, 'y':y, 'x':x, 'e_pos':e_pos, 'e_gui':e_gui,\n",
        "                   'u_pos':u_pos_control, 'u_gui':u_gui_control})\n",
        "fig = px.line(df, x='t', y='y', title='', labels={'t': 'Time [s]', 'y': 'Y position [m]'})\n",
        "fig.update_traces(line=dict(color='blue', width=4))\n",
        "fig.show()\n",
        "fig = px.line(df, x='t', y='x', title='', labels={'t': 'Time', 'x': 'X position [m]'})\n",
        "fig.update_traces(line=dict(color='blue', width=4))\n",
        "fig.show()\n",
        "fig = px.line(df, x='t', y='e_pos', title='', labels={'t': 'Time', 'e_pos': 'Error position [m]'})\n",
        "fig.update_traces(line=dict(color='red', width=4))\n",
        "fig.show()\n",
        "fig = px.line(df, x='t', y='u_pos', title='', labels={'t': 'Time', 'u_pos': 'Señal de control v [m/s] '})\n",
        "fig.update_traces(line=dict(color='yellow', width=4))\n",
        "fig.show()"
      ]
    }
  ],
  "metadata": {
    "kernelspec": {
      "display_name": "entornoClases",
      "language": "python",
      "name": "python3"
    },
    "language_info": {
      "codemirror_mode": {
        "name": "ipython",
        "version": 3
      },
      "file_extension": ".py",
      "mimetype": "text/x-python",
      "name": "python",
      "nbconvert_exporter": "python",
      "pygments_lexer": "ipython3",
      "version": "3.11.12"
    },
    "colab": {
      "provenance": []
    }
  },
  "nbformat": 4,
  "nbformat_minor": 5
}